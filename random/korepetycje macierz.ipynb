{
 "cells": [
  {
   "cell_type": "code",
   "execution_count": 62,
   "metadata": {
    "collapsed": false
   },
   "outputs": [
    {
     "name": "stdout",
     "output_type": "stream",
     "text": [
      "[[1, 2], [3, 4]] 2\n",
      "[[9, 8], [7, 6]] 2\n",
      "[23, 20]\n",
      "[55, 48]\n"
     ]
    }
   ],
   "source": [
    "def zamiana(macierz,wymiar1,wymiar2): #do wczytywania macierzy- jeśli kwadratowe to starczy jeden wymiar\n",
    "    licznik=0\n",
    "    zast=[[macierz[i] for i in range(wymiar1)] for i in range(wymiar2)]\n",
    "    for i in range(wymiar2):\n",
    "         for j in range(wymiar1):\n",
    "                zast[i][j]=int(macierz[licznik])\n",
    "                licznik+=1\n",
    "    return zast\n",
    "#po kolei otwarcie, zczytanie, rozbicie na jedną listę i zamiana na macierz\n",
    "macierz1=open(\"macierz1.txt\",\"r\")\n",
    "macierz1=macierz1.read()\n",
    "macierz1=macierz1.split()\n",
    "macierz1=zamiana(macierz1,2,2)\n",
    "macierz2=open(\"macierz2.txt\",\"r\")\n",
    "macierz2=macierz2.read()\n",
    "macierz2=macierz2.split()\n",
    "macierz2=zamiana(macierz2,2,2)\n",
    "#wczytane\n",
    "#tu możesz zmodyfikowac tak żeby miec od razu podaną wielkośc tablicy\n",
    "wymiar1=len(macierz1)\n",
    "wymiar2=len(macierz2[0])\n",
    "#wymiar=int(input(\"podaj wymiar talicy\"))\n",
    "print(macierz1,wymiar1)\n",
    "print(macierz2,wymiar2)\n",
    "wynik=[[0 for i in range(wymiar1)] for i in range(wymiar2)]\n",
    "for i in range(len(macierz1)):\n",
    "    for j in range(len(macierz2[0])):\n",
    "        for k in range(len(macierz2)):\n",
    "            wynik[i][j] += macierz1[i][k] * macierz2[k][j]\n",
    "for r in wynik:\n",
    "    print(r)\n",
    "\n"
   ]
  },
  {
   "cell_type": "code",
   "execution_count": null,
   "metadata": {
    "collapsed": true
   },
   "outputs": [],
   "source": [
    "macierz1=[[i+1 for i in range(5)] for i in range(5)]\n",
    "macierz2=[[i+1 for i in range(5)] for i in range(5)]\n",
    "macierz3=[[i+1 for i in range(len(macierz1))] for i in range(len[macierz2])]\n",
    "print(macierz1,macierz2,macierz3)\n",
    "for i in range(len(macierz1)):\n",
    "    for j in range(len(macierz1))\n",
    "        for k in range() \n",
    "            macierz3[i][k]=macierz3[i][j]+macierz[i][j]*macierz[j][i]"
   ]
  }
 ],
 "metadata": {
  "kernelspec": {
   "display_name": "Python 3",
   "language": "python",
   "name": "python3"
  },
  "language_info": {
   "codemirror_mode": {
    "name": "ipython",
    "version": 3
   },
   "file_extension": ".py",
   "mimetype": "text/x-python",
   "name": "python",
   "nbconvert_exporter": "python",
   "pygments_lexer": "ipython3",
   "version": "3.4.3"
  }
 },
 "nbformat": 4,
 "nbformat_minor": 0
}
