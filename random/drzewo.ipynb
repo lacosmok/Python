{
 "cells": [
  {
   "cell_type": "code",
   "execution_count": 23,
   "metadata": {
    "collapsed": false
   },
   "outputs": [
    {
     "name": "stdout",
     "output_type": "stream",
     "text": [
      "{0: [0, -1, 0, 0]}\n",
      "wysokosc 1\n",
      "wysokosc 2\n",
      "wysokosc 2\n",
      "wysokosc 2\n",
      "0\n",
      ".......1\n",
      ".......2\n",
      "..............3\n",
      "..............4\n",
      "............................7\n",
      ".....................8\n",
      ".....................10\n",
      "{0: [0, -1, 1, 2], 1: [1, 0, 3, 4], 2: [1, 0, 0, 8], 3: [2, 1, 0, 10], 4: [2, 1, 0, 7], 7: [4, 4, 0, 0], 8: [3, 2, 0, 0], 10: [3, 3, 0, 0]} 3\n"
     ]
    }
   ],
   "source": [
    "from math import log\n",
    "from math import ceil\n",
    "\n",
    "\n",
    "#schemat=[wysokosc,rodzic,lewy,prawy]\n",
    "def dodaj(drzewo,el,x,h):\n",
    "    if drzewo[x][2]==0:          #na lewo\n",
    "        drzewo[i]=[h,x,0 ,0]\n",
    "        drzewo[x][2]=i\n",
    "        x+=1\n",
    "    elif drzewo[x][3]==0:\n",
    "        drzewo[i]=[h,x,0,0]                                  #na prawo\n",
    "        drzewo[x][3]=i\n",
    "        x+=1\n",
    "        h+=1\n",
    "    elif drzewo[x][2] and drzewo[x][3]:\n",
    "        x+=1\n",
    "        dodaj(drzewo,el,x,h)\n",
    "    return h\n",
    "def dodajel(el):\n",
    "    for i in drzewo.keys():\n",
    "        if el<i:\n",
    "            if drzewo[i][2]==0:\n",
    "                drzewo[el]=[0,i,0,0]\n",
    "                drzewo[el][0]=ceil(log(len(drzewo)+1,2))\n",
    "                drzewo[i][2]=el\n",
    "                break\n",
    "        if el>i:\n",
    "            if drzewo[i][3]==0:\n",
    "                drzewo[el]=[0,i,0,0]\n",
    "                drzewo[el][0]=ceil(log(len(drzewo)+1,2))      \n",
    "                drzewo[i][3]=el\n",
    "                break\n",
    "drzewo={}\n",
    "root=[0,-1,0,0]\n",
    "lista=[i for i in range(1,5)]\n",
    "drzewo[0]=root\n",
    "print(drzewo)\n",
    "h=1\n",
    "for i in lista:\n",
    "    x=0\n",
    "    h=dodaj(drzewo,i,x,h)\n",
    "    print(\"wysokosc\",h)\n",
    "wysokosc=ceil(log(len(drzewo)+1,2))\n",
    "temp=wysokosc\n",
    "dodajel(8)   \n",
    "dodajel(10)\n",
    "dodajel(7)\n",
    "for i in drzewo.keys():\n",
    "    for x in range(drzewo[i][0]):\n",
    "        print(\".......\", end=\"\")\n",
    "    print(i)\n",
    "\n",
    "\n",
    "print(drzewo,wysokosc)"
   ]
  },
  {
   "cell_type": "code",
   "execution_count": 1,
   "metadata": {
    "collapsed": false
   },
   "outputs": [
    {
     "name": "stdout",
     "output_type": "stream",
     "text": [
      "{0: [0, -1, 0, 0]}\n"
     ]
    },
    {
     "ename": "TypeError",
     "evalue": "unorderable types: int() < list()",
     "output_type": "error",
     "traceback": [
      "\u001b[1;31m---------------------------------------------------------------------------\u001b[0m",
      "\u001b[1;31mTypeError\u001b[0m                                 Traceback (most recent call last)",
      "\u001b[1;32m<ipython-input-1-5899dbf80538>\u001b[0m in \u001b[0;36m<module>\u001b[1;34m()\u001b[0m\n\u001b[0;32m     22\u001b[0m \u001b[1;32mfor\u001b[0m \u001b[0mi\u001b[0m \u001b[1;32min\u001b[0m \u001b[0mlista\u001b[0m\u001b[1;33m:\u001b[0m\u001b[1;33m\u001b[0m\u001b[0m\n\u001b[0;32m     23\u001b[0m     \u001b[0mx\u001b[0m\u001b[1;33m=\u001b[0m\u001b[1;36m0\u001b[0m\u001b[1;33m\u001b[0m\u001b[0m\n\u001b[1;32m---> 24\u001b[1;33m     \u001b[0mh\u001b[0m\u001b[1;33m=\u001b[0m\u001b[0mdodaj\u001b[0m\u001b[1;33m(\u001b[0m\u001b[0mdrzewo\u001b[0m\u001b[1;33m,\u001b[0m\u001b[0mi\u001b[0m\u001b[1;33m,\u001b[0m\u001b[0mx\u001b[0m\u001b[1;33m,\u001b[0m\u001b[0mh\u001b[0m\u001b[1;33m)\u001b[0m\u001b[1;33m\u001b[0m\u001b[0m\n\u001b[0m\u001b[0;32m     25\u001b[0m     \u001b[0mprint\u001b[0m\u001b[1;33m(\u001b[0m\u001b[1;34m\"wysokosc\"\u001b[0m\u001b[1;33m,\u001b[0m\u001b[0mh\u001b[0m\u001b[1;33m)\u001b[0m\u001b[1;33m\u001b[0m\u001b[0m\n\u001b[0;32m     26\u001b[0m \u001b[0mwysokosc\u001b[0m\u001b[1;33m=\u001b[0m\u001b[0mceil\u001b[0m\u001b[1;33m(\u001b[0m\u001b[0mlog\u001b[0m\u001b[1;33m(\u001b[0m\u001b[0mlen\u001b[0m\u001b[1;33m(\u001b[0m\u001b[0mdrzewo\u001b[0m\u001b[1;33m)\u001b[0m\u001b[1;33m+\u001b[0m\u001b[1;36m1\u001b[0m\u001b[1;33m,\u001b[0m\u001b[1;36m2\u001b[0m\u001b[1;33m)\u001b[0m\u001b[1;33m)\u001b[0m\u001b[1;33m\u001b[0m\u001b[0m\n",
      "\u001b[1;32m<ipython-input-1-5899dbf80538>\u001b[0m in \u001b[0;36mdodaj\u001b[1;34m(drzewo, el, x, h)\u001b[0m\n\u001b[0;32m      1\u001b[0m \u001b[1;31m#schemat=[wysokosc,rodzic,lewy,prawy,iisleft]\u001b[0m\u001b[1;33m\u001b[0m\u001b[1;33m\u001b[0m\u001b[0m\n\u001b[0;32m      2\u001b[0m \u001b[1;32mdef\u001b[0m \u001b[0mdodaj\u001b[0m\u001b[1;33m(\u001b[0m\u001b[0mdrzewo\u001b[0m\u001b[1;33m,\u001b[0m\u001b[0mel\u001b[0m\u001b[1;33m,\u001b[0m\u001b[0mx\u001b[0m\u001b[1;33m,\u001b[0m\u001b[0mh\u001b[0m\u001b[1;33m)\u001b[0m\u001b[1;33m:\u001b[0m\u001b[1;33m\u001b[0m\u001b[0m\n\u001b[1;32m----> 3\u001b[1;33m     \u001b[1;32mif\u001b[0m \u001b[0mel\u001b[0m\u001b[1;33m<\u001b[0m\u001b[0mdrzewo\u001b[0m\u001b[1;33m[\u001b[0m\u001b[0mx\u001b[0m\u001b[1;33m]\u001b[0m\u001b[1;33m:\u001b[0m          \u001b[1;31m#na lewo\u001b[0m\u001b[1;33m\u001b[0m\u001b[0m\n\u001b[0m\u001b[0;32m      4\u001b[0m         \u001b[0mdrzewo\u001b[0m\u001b[1;33m[\u001b[0m\u001b[0mi\u001b[0m\u001b[1;33m]\u001b[0m\u001b[1;33m=\u001b[0m\u001b[1;33m[\u001b[0m\u001b[0mh\u001b[0m\u001b[1;33m,\u001b[0m\u001b[0mx\u001b[0m\u001b[1;33m,\u001b[0m\u001b[1;36m0\u001b[0m \u001b[1;33m,\u001b[0m\u001b[1;36m0\u001b[0m\u001b[1;33m]\u001b[0m\u001b[1;33m\u001b[0m\u001b[0m\n\u001b[0;32m      5\u001b[0m         \u001b[0mdrzewo\u001b[0m\u001b[1;33m[\u001b[0m\u001b[0mx\u001b[0m\u001b[1;33m]\u001b[0m\u001b[1;33m[\u001b[0m\u001b[1;36m2\u001b[0m\u001b[1;33m]\u001b[0m\u001b[1;33m=\u001b[0m\u001b[0mi\u001b[0m\u001b[1;33m\u001b[0m\u001b[0m\n",
      "\u001b[1;31mTypeError\u001b[0m: unorderable types: int() < list()"
     ]
    }
   ],
   "source": [
    "8"
   ]
  },
  {
   "cell_type": "code",
   "execution_count": 4,
   "metadata": {
    "collapsed": false
   },
   "outputs": [
    {
     "data": {
      "text/plain": [
       "3184713.3757961784"
      ]
     },
     "execution_count": 4,
     "metadata": {},
     "output_type": "execute_result"
    }
   ],
   "source": [
    "(1/(2*3.14*50000))/10**(-12)"
   ]
  },
  {
   "cell_type": "code",
   "execution_count": 6,
   "metadata": {
    "collapsed": false
   },
   "outputs": [
    {
     "data": {
      "text/plain": [
       "482532.3296660876"
      ]
     },
     "execution_count": 6,
     "metadata": {},
     "output_type": "execute_result"
    }
   ],
   "source": [
    "1/(2*3.14*22*15*10**(-9))"
   ]
  },
  {
   "cell_type": "code",
   "execution_count": 10,
   "metadata": {
    "collapsed": false
   },
   "outputs": [
    {
     "data": {
      "text/plain": [
       "4825.323296660875"
      ]
     },
     "execution_count": 10,
     "metadata": {},
     "output_type": "execute_result"
    }
   ],
   "source": [
    "1/(2*3.14*22*150*10**(-9))"
   ]
  },
  {
   "cell_type": "code",
   "execution_count": null,
   "metadata": {
    "collapsed": true
   },
   "outputs": [],
   "source": []
  }
 ],
 "metadata": {
  "kernelspec": {
   "display_name": "Python 3",
   "language": "python",
   "name": "python3"
  },
  "language_info": {
   "codemirror_mode": {
    "name": "ipython",
    "version": 3
   },
   "file_extension": ".py",
   "mimetype": "text/x-python",
   "name": "python",
   "nbconvert_exporter": "python",
   "pygments_lexer": "ipython3",
   "version": "3.4.3"
  }
 },
 "nbformat": 4,
 "nbformat_minor": 0
}
