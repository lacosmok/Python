{
 "cells": [
  {
   "cell_type": "code",
   "execution_count": null,
   "metadata": {
    "collapsed": false
   },
   "outputs": [],
   "source": []
  },
  {
   "cell_type": "code",
   "execution_count": 37,
   "metadata": {
    "collapsed": false
   },
   "outputs": [
    {
     "name": "stdout",
     "output_type": "stream",
     "text": [
      "[83, 83, 83, 83, 83, 85]\n",
      "82\n",
      "82\n",
      "82\n",
      "82\n",
      "82\n",
      "84\n",
      "ilość lini 6\n",
      "ilość słów 500\n"
     ]
    }
   ],
   "source": [
    "import random\n",
    "def makefoo(words,lines):\n",
    "    foo=open(\"foo.txt\", 'w')\n",
    "    k=\"\"\n",
    "    result=\"\"\n",
    "    word=\"\"\n",
    "    alpha='abcdefghijklmnopqrstuvwxyzABCDEFGHIJKLMNOPQRSTUVWXYZ'\n",
    "    parts=[0 for i in range(lines)]\n",
    "    #sprawdza ile słów jest w poszczególnych liniach, żeby zgadzała się liczba słów\n",
    "    remain=words\n",
    "    for i in range(lines):\n",
    "        if i==lines-1:\n",
    "            parts[i]=remain\n",
    "        else:\n",
    "            parts[i]=words//lines\n",
    "            remain=remain-parts[i]\n",
    "    print(parts)\n",
    "    #tutaj petla żeby dobrze szło po liniach\n",
    "    for i in range(lines):\n",
    "        #żeby dobrze liczyło ilosć słów\n",
    "        for words in range(parts[i]):\n",
    "            #tutaj tworzy słowo poprzez zlepek liter róznej długości z alpha\n",
    "            #coś bardziej zaawansowanego zabierze za dużo czasu\n",
    "            for j in range(random.randint(1, 10)):\n",
    "                word=word+random.choice(alpha)\n",
    "            result=result+word+\" \"\n",
    "            word=\"\"\n",
    "        print(words)\n",
    "        #-1 bo ostatnią spację program liczy jako słowo\n",
    "        result=result[:-1]+\"\\n\"\n",
    "    #zapisuje do pliku\n",
    "    foo.write(result)\n",
    "    foo.close()\n",
    "makefoo(500,6)\n",
    "f=open(\"foo.txt\",\"r+\")\n",
    "lines=0\n",
    "words=0\n",
    "#liczy linie i liczy słowa... bardzo pprosty, możesz opakowac w defa jak chcesz\n",
    "for line in f:\n",
    "    lines+=1\n",
    "    for word in line.split(\" \"):\n",
    "        words+=1\n",
    "print(\"ilość lini\",lines)\n",
    "print(\"ilość słów\",words)"
   ]
  },
  {
   "cell_type": "code",
   "execution_count": 36,
   "metadata": {
    "collapsed": false
   },
   "outputs": [
    {
     "data": {
      "text/plain": [
       "500"
      ]
     },
     "execution_count": 36,
     "metadata": {},
     "output_type": "execute_result"
    }
   ],
   "source": [
    "6*83+2  "
   ]
  },
  {
   "cell_type": "code",
   "execution_count": 8,
   "metadata": {
    "collapsed": false
   },
   "outputs": [
    {
     "name": "stdout",
     "output_type": "stream",
     "text": [
      "[0, 1]\n",
      "[0, 1]\n",
      "[0, 1]\n",
      "[0, 1]\n",
      "[0, 1]\n",
      "[0, 1]\n",
      "[0, 1]\n",
      "[0, 1]\n",
      "[0, 1]\n",
      "[0, 1]\n",
      "[0, 1]\n",
      "[0, 1]\n",
      "[0, 1]\n",
      "[0, 1]\n",
      "[0, 1]\n",
      "[0, 1]\n",
      "[0, 1]\n",
      "[0, 1]\n",
      "[0, 1]\n",
      "[0, 1]\n",
      "[0, 1]\n",
      "[0, 1]\n",
      "[0, 1]\n",
      "[0, 1]\n",
      "[0, 1]\n",
      "[0, 1]\n",
      "[0, 1]\n"
     ]
    }
   ],
   "source": []
  },
  {
   "cell_type": "code",
   "execution_count": null,
   "metadata": {
    "collapsed": true
   },
   "outputs": [],
   "source": []
  }
 ],
 "metadata": {
  "kernelspec": {
   "display_name": "Python 3",
   "language": "python",
   "name": "python3"
  },
  "language_info": {
   "codemirror_mode": {
    "name": "ipython",
    "version": 3
   },
   "file_extension": ".py",
   "mimetype": "text/x-python",
   "name": "python",
   "nbconvert_exporter": "python",
   "pygments_lexer": "ipython3",
   "version": "3.4.3"
  }
 },
 "nbformat": 4,
 "nbformat_minor": 0
}
