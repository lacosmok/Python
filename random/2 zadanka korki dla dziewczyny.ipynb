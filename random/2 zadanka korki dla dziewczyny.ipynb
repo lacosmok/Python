{
 "cells": [
  {
   "cell_type": "code",
   "execution_count": 20,
   "metadata": {
    "collapsed": false
   },
   "outputs": [
    {
     "name": "stdout",
     "output_type": "stream",
     "text": [
      "bcdefghijklmnopqrstuvxyzaBCDEFGHIJKLMNOPQRSTUVXYZAcdefghijklmnopqrstuvwyzabCDEFGHIJKLMNOPQRSTUVWYZAB\n"
     ]
    }
   ],
   "source": [
    "def ciphers(plik):\n",
    "    wynik=\"\"\n",
    "    file=open(plik,\"r+\")\n",
    "    w=open(\"wynik.txt\",\"w\")\n",
    "    for line in file:\n",
    "        for word in line.split():\n",
    "            for letter in word:\n",
    "                if letter is \" \":\n",
    "                    wynik=wynik+\" \"\n",
    "                else:\n",
    "                    if letter==\"Z\":\n",
    "                        wynik=wynik+\"A\"\n",
    "                    elif letter==\"z\":\n",
    "                        wynik=wynik+\"a\"\n",
    "                    elif ord(letter)==124:# to jest enter jakby co, jak nie masz enterów to kit\n",
    "                        wynik=wynik+chr(124)\n",
    "                    else:\n",
    "                        wynik=wynik+chr(ord(letter)+1)\n",
    "    w.write(wynik)\n",
    "    file.close\n",
    "    w.close\n",
    "    return wynik\n",
    "print(ciphers(\"foo.txt\"))    "
   ]
  },
  {
   "cell_type": "code",
   "execution_count": 90,
   "metadata": {
    "collapsed": false
   },
   "outputs": [
    {
     "name": "stdout",
     "output_type": "stream",
     "text": [
      "podaj kat z przedialu [0,1]0.3\n",
      "[1.0, 0.9993908270190958, 0.9975640502598242, 0.9945218953682733, 0.9902680687415704, 0.984807753012208, 0.9781476007338057, 0.9702957262759965, 0.9612616959383189, 0.9510565162951535, 0.9396926207859084, 0.9271838545667874, 0.9135454576426009, 0.898794046299167, 0.882947592858927, 0.8660254037844387, 0.848048096156426, 0.8290375725550416, 0.8090169943749475, 0.7880107536067219, 0.766044443118978, 0.7431448254773942, 0.7193398003386512, 0.6946583704589973, 0.6691306063588582, 0.6427876096865394, 0.6156614753256583, 0.5877852522924731, 0.5591929034707468, 0.5299192642332049, 0.5000000000000001, 0.46947156278589086, 0.43837114678907746, 0.4067366430758002, 0.37460659341591196, 0.3420201433256688, 0.30901699437494745, 0.27563735581699916, 0.24192189559966767, 0.20791169081775945, 0.17364817766693041, 0.13917310096006547, 0.10452846326765346, 0.06975647374412523, 0.03489949670250108]\n",
      "74\n"
     ]
    }
   ],
   "source": [
    "from math import cos,radians\n",
    "def fcos():\n",
    "    wynik=1\n",
    "    roznica=1\n",
    "    kat=float(input(\"podaj kat z przedialu [0,1]\"))\n",
    "    while(kat>1 or kat<0):\n",
    "        print(\"niepoprawne dane\")\n",
    "        kat=float(input(\"podaj kat z przedialu [0,1]\"))\n",
    "    from math import cos,radians\n",
    "    tablica=[cos(radians(i)) for i in range(0,90,2)]\n",
    "    print(tablica)\n",
    "    for item in tablica:\n",
    "        if (roznica>abs(kat-item)):\n",
    "            roznica=abs(kat-item)\n",
    "            wynik=(tablica.index(item)+1)*2\n",
    "            #print(item,roznica)\n",
    "    return wynik\n",
    "print(fcos())"
   ]
  },
  {
   "cell_type": "code",
   "execution_count": 59,
   "metadata": {
    "collapsed": false
   },
   "outputs": [
    {
     "data": {
      "text/plain": [
       "78"
      ]
     },
     "execution_count": 59,
     "metadata": {},
     "output_type": "execute_result"
    }
   ],
   "source": [
    "(45-6)*2"
   ]
  },
  {
   "cell_type": "code",
   "execution_count": null,
   "metadata": {
    "collapsed": true
   },
   "outputs": [],
   "source": []
  }
 ],
 "metadata": {
  "kernelspec": {
   "display_name": "Python 3",
   "language": "python",
   "name": "python3"
  },
  "language_info": {
   "codemirror_mode": {
    "name": "ipython",
    "version": 3
   },
   "file_extension": ".py",
   "mimetype": "text/x-python",
   "name": "python",
   "nbconvert_exporter": "python",
   "pygments_lexer": "ipython3",
   "version": "3.4.3"
  }
 },
 "nbformat": 4,
 "nbformat_minor": 0
}
