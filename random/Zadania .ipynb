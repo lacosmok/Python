{
 "cells": [
  {
   "cell_type": "code",
   "execution_count": null,
   "metadata": {
    "collapsed": true
   },
   "outputs": [],
   "source": [
    "Lorem ipsum dolor sit amet, consectetur adipiscing elit. Sed quis neque quis lorem consectetur dignissim. Nam a volutpat nisl. Phasellus quam libero, suscipit id ultricies non, pulvinar sollicitudin tellus. Nam mollis ex ac velit vehicula, quis faucibus eros posuere. Donec ipsum lacus, fermentum in odio sit amet, lobortis pellentesque quam. Nullam quis augue magna. Sed viverra vehicula eros a aliquam. Nulla interdum urna est, nec varius quam aliquet vel. Phasellus rutrum ullamcorper purus, quis vulputate nibh faucibus eleifend. In blandit, massa ut accumsan consectetur, diam lectus aliquam lorem, in finibus diam sem sit amet nibh. Aliquam eu egestas lectus. Etiam tempor quis sapien sed aliquam.\n",
    "Vivamus ut porttitor magna. Nunc ut maximus arcu. Suspendisse potenti. Phasellus quis pulvinar nisl, ac bibendum felis. Fusce pellentesque arcu posuere lacus laoreet, vel ornare mauris vulputate. Donec ultricies diam at tellus dictum consectetur. Aenean congue, quam in vehicula sollicitudin, turpis dui sollicitudin mauris, non pellentesque leo tortor nec urna.\n",
    "Fusce nunc elit, eleifend eu libero eu, maximus viverra leo. Quisque eu enim commodo, aliquam sapien in, maximus mi. Duis faucibus, ipsum eu placerat posuere, orci nisi molestie nibh, vel gravida sapien massa ut ex. Sed commodo imperdiet augue eget pharetra. In eu purus fermentum, consectetur ipsum vitae, laoreet justo. Cras mollis fringilla urna, ut malesuada libero tincidunt sit amet. Nullam ac sodales neque. Pellentesque lobortis quis felis sit amet molestie. Curabitur volutpat, metus quis viverra blandit, diam felis fermentum augue, eget egestas erat enim at sapien.\n",
    "Sed feugiat, dolor commodo fringilla lobortis, ipsum diam interdum felis, non sagittis sapien leo vitae dui. Morbi malesuada commodo odio, at sagittis elit pellentesque ut. Curabitur eu gravida nisl. Nunc viverra tortor eros, et sollicitudin sem pretium a. Quisque nec venenatis justo, a placerat turpis. Sed ornare lorem vitae tristique maximus. Nunc fringilla turpis consequat posuere consequat.\n",
    "Donec ac risus sem. Vestibulum ante ipsum primis in faucibus orci luctus et ultrices posuere cubilia Curae; Nam finibus ac sapien nec ultrices. Pellentesque faucibus eu orci sed volutpat. Fusce tortor orci, viverra a commodo eget, suscipit non tortor. Maecenas placerat nisi in erat malesuada tristique quis eget urna. Nulla tincidunt sapien sed dui hendrerit dignissim. Donec dignissim tempor rhoncus. Fusce rutrum, ex id placerat bibendum, arcu nunc varius magna, quis venenatis lectus lorem vitae ante. Vestibulum volutpat faucibus nisl a gravida. Mauris scelerisque elit auctor facilisis ullamcorper. Nam eleifend vulputate lobortis. Maecenas id malesuada orci. Aliquam erat volutpat. Integer in orci tempor, venenatis est quis, rhoncus dolor. Sed tortor dui, auctor non enim at, auctor venenatis nisi.\n",
    "Vestibulum semper turpis quis nibh convallis consectetur. Vivamus in odio mauris. In non mauris in nulla porttitor porta nec hendrerit felis. Praesent porttitor, elit eget dapibus lacinia, justo risus aliquam orci, at consectetur nibh est a elit. Nam eu risus venenatis, suscipit lorem ut, consequat massa. Phasellus nunc mi, venenatis sed mattis eu, laoreet sagittis dolor. Nullam sollicitudin laoreet aliquam. Donec auctor malesuada bibendum. Morbi accumsan lobortis metus, eu ultrices leo vestibulum vestibulum. In in ligula a ligula sagittis aliquam. Fusce vel libero."
   ]
  }
 ],
 "metadata": {
  "kernelspec": {
   "display_name": "Python 3",
   "language": "python",
   "name": "python3"
  },
  "language_info": {
   "codemirror_mode": {
    "name": "ipython",
    "version": 3
   },
   "file_extension": ".py",
   "mimetype": "text/x-python",
   "name": "python",
   "nbconvert_exporter": "python",
   "pygments_lexer": "ipython3",
   "version": "3.4.3"
  }
 },
 "nbformat": 4,
 "nbformat_minor": 0
}
