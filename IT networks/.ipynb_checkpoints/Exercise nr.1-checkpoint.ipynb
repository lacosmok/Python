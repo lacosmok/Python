{
 "cells": [
  {
   "cell_type": "code",
   "execution_count": 50,
   "metadata": {
    "collapsed": false,
    "scrolled": true
   },
   "outputs": [],
   "source": [
    "import random\n",
    "def AddParityBit(bin_str):\n",
    "    \n",
    "    amount_of_1 = 0\n",
    "    for i in bin_str:\n",
    "        if i==\"1\":\n",
    "            amount_of_1 +=1\n",
    "    \n",
    "    if amount_of_1%2==0:\n",
    "        bin_str=bin_str+\"0\"\n",
    "    else:\n",
    "        bin_str=bin_str+\"1\"\n",
    "    print(amount_of_1)\n",
    "    return bin_str\n",
    "\n",
    "def AddModuloSum(file):\n",
    "    \n",
    "    modulo_sum =0\n",
    "    for i in file:\n",
    "        modulo_sum ^= (int(\"0\"))\n",
    "    return file + str(modulo_sum)[-1]\n",
    "        \n",
    "def AddErrorsWithoutRepetition(file,percentage):\n",
    "    \"\"\"\n",
    "    Change string to list and then add buffor which is going to go\n",
    "    alongside binary string and change random letters to another one\n",
    "    \"\"\"\n",
    "    file = list(file)\n",
    "    amount_of_errors = len(file)//((len(file)*percentage)//100)\n",
    "    buffor=0\n",
    "    while buffor<(len(file)-amount_of_errors): \n",
    "        temporary_random = random.randint(1,amount_of_errors)\n",
    "        buffor+= temporary_random\n",
    "        if file[buffor]==\"1\":\n",
    "            file[buffor]=\"0\"\n",
    "        else:\n",
    "            file[buffor]=\"1\"\n",
    "        buffor = buffor + amount_of_errors - temporary_random\n",
    "    return \"\".join(file)\n",
    "\n",
    "def AddErrorsWithRepetition(file,percentage):\n",
    "    \"\"\"\n",
    "    Change string to list and then get random bits and change them\n",
    "    \"\"\"\n",
    "    file = list(file)\n",
    "    amount_of_errors = len(file)//((len(file)*percentage)//100)\n",
    "    buffor=0\n",
    "    for i in range(amount_of_errors):\n",
    "        buffor = random.randint(1,len(file))\n",
    "        if file[buffor]==\"1\":\n",
    "            file[buffor]=\"0\"\n",
    "        else:\n",
    "            file[buffor]=\"1\"\n",
    "    return \"\".join(file)\n",
    "\n",
    "def OpenFile(name):\n",
    "    #Open file and change to binary\n",
    "    file = open(name, \"r\")\n",
    "    for i in file:\n",
    "        string_bin = ''.join(format(ord(x), 'b') for x in i)\n",
    "    return string_bin\n",
    "\n",
    "def AddCRCSum(file, poly):\n",
    "    \"\"\"\n",
    "    ok, polynomial is in int atm.. just remember that it is possible to do int \"\",2\n",
    "    \n",
    "    \"\"\"\n",
    "    n = len(str(bin(poly)))-3\n",
    "    temp_file = list(file)\n",
    "    buffor = 0\n",
    "    while buffor < (len(temp_file)-n):\n",
    "        part_of_file = \"\".join(temp_file[buffor:buffor+4:])\n",
    "        part_of_file = int(part_of_file, 2)\n",
    "        part_of_file ^=  poly\n",
    "        part_of_file = list(str(bin(part_of_file))[2::])\n",
    "        # It is already made as str...\n",
    "        # Check if it have proper format\n",
    "        while len(part_of_file) < (n+1):\n",
    "            part_of_file.insert(0, \"0\")\n",
    "        for i in range(n):\n",
    "            temp_file[buffor+i] = part_of_file[i]\n",
    "        buffor +=1\n",
    "    file = list(file)\n",
    "    file += part_of_file[1:]\n",
    "    return \"\".join(file)"
   ]
  },
  {
   "cell_type": "code",
   "execution_count": 51,
   "metadata": {
    "collapsed": false
   },
   "outputs": [
    {
     "name": "stdout",
     "output_type": "stream",
     "text": [
      "101010011010001101001111001110000011010011110011\n",
      "after CRC version\n",
      "101010011010001101001111001110000011010011110011101\n"
     ]
    }
   ],
   "source": [
    "string_bin = OpenFile(\"Plik.txt\")\n",
    "otucome_CRC = AddCRCSum(string_bin, 10)\n",
    "print(string_bin)\n",
    "print(\"after CRC version\")\n",
    "print(outcome_crc)"
   ]
  },
  {
   "cell_type": "code",
   "execution_count": 37,
   "metadata": {
    "collapsed": false
   },
   "outputs": [
    {
     "name": "stdout",
     "output_type": "stream",
     "text": [
      "1010100110100011010011110011100000110100111100110\n"
     ]
    }
   ],
   "source": [
    "string_bin = AddModuloSum(string_bin)\n",
    "print(string_bin)"
   ]
  },
  {
   "cell_type": "code",
   "execution_count": 50,
   "metadata": {
    "collapsed": false
   },
   "outputs": [
    {
     "name": "stdout",
     "output_type": "stream",
     "text": [
      "380\n",
      "10101001101000110100111100111000001101001111001110000011001101101001111001011100111110100100000110010111110001100001110110111100001101100110010110110010000011101111101000110100111000111101000100000111011111010011101100110110010000011000111101000110010111000111101011100000110100011011111110111100000111010011010001100101100000110000111011001100111110111111100101101001111010011010001101101100000111011111011111110010110101111100111011101000001010100110100011001011110010110010110000011000011110010110010110000011001111101111110100111011101100111100000111010011011111000001100010110010110000011001110000011001011111000110000111011011110000110110011001011110011101110101110101110101110100000110011111100101110000\n",
      "10111001101100110110110100111000011101000111000110000010001100100001111101011100011110100110000010000111111001100001010110111000001001101110010110010110000011100111101100110000111001111111000101000101011111010111111100110010010010011000110101000010010011100111101010110000110101011011111010110100100111000011010001110001100001110000111001101100111110011011100100101101111010001010001111101100100111111110011101110011110101101100111001101100001011100110100111001001010010110011111000010000011111010110110110000111001111001111010000111001101100110100000110011011011111010001000010100000110000011101100000011001001111100110010101011011110010110010011001001010011100110101110111110111111100000111011111101101111000\n",
      "375\n",
      "10111001101100110110110100111000011101000111000110000010001100100001111101011100011110100110000010000111111001100001010110111000001001101110010110010110000011100111101100110000111001111111000101000101011111010111111100110010010010011000110101000010010011100111101010110000110101011011111010110100100111000011010001110001100001110000111001101100111110011011100100101101111010001010001111101100100111111110011101110011110101101100111001101100001011100110100111001001010010110011111000010000011111010110110110000111001111001111010000111001101100110100000110011011011111010001000010100000110000011101100000011001001111100110010101011011110010110010011001001010011100110101110111110111111100000111011111101101111001\n"
     ]
    }
   ],
   "source": [
    "#add parity bit and save to file\n",
    "string_bin = AddParityBit(string_bin)\n",
    "print(string_bin)\n",
    "bin_file = open(\"binary.txt\", \"w\")\n",
    "bin_file.write(string_bin)\n",
    "\n",
    "#add errors to binary string\n",
    "error_percentage = 13\n",
    "string_bin = AddErrorsWithoutRepetition(string_bin, error_percentage)\n",
    "print(string_bin)\n",
    "\n",
    "# check again parity bin\n",
    "string_bin = AddParityBit(string_bin[:-1:])\n",
    "print(string_bin)"
   ]
  }
 ],
 "metadata": {
  "kernelspec": {
   "display_name": "Python 2",
   "language": "python",
   "name": "python2"
  },
  "language_info": {
   "codemirror_mode": {
    "name": "ipython",
    "version": 2
   },
   "file_extension": ".py",
   "mimetype": "text/x-python",
   "name": "python",
   "nbconvert_exporter": "python",
   "pygments_lexer": "ipython2",
   "version": "2.7.12"
  }
 },
 "nbformat": 4,
 "nbformat_minor": 0
}
