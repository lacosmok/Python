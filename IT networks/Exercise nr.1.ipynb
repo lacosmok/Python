{
 "cells": [
  {
   "cell_type": "code",
   "execution_count": 49,
   "metadata": {
    "collapsed": false,
    "scrolled": true
   },
   "outputs": [
    {
     "name": "stdout",
     "output_type": "stream",
     "text": [
      "This is first example, which will check how the algorithm works. There are going to be 3 examples.... gr8\n",
      "1010100110100011010011110011100000110100111100111000001100110110100111100101110011111010010000011001011111000110000111011011110000110110011001011011001000001110111110100011010011100011110100010000011101111101001110110011011001000001100011110100011001011100011110101110000011010001101111111011110000011101001101000110010110000011000011101100110011111011111110010110100111101001101000110110110000011101111101111111001011010111110011101110100000101010011010001100101111001011001011000001100001111001011001011000001100111110111111010011101110110011110000011101001101111100000110001011001011000001100111000001100101111100011000011101101111000011011001100101111001110111010111010111010111010000011001111110010111000\n"
     ]
    }
   ],
   "source": [
    "import random\n",
    "def AddParityBit(bin_str):\n",
    "    \n",
    "    amount_of_1 = 0\n",
    "    for i in bin_str:\n",
    "        if i==\"1\":\n",
    "            amount_of_1 +=1\n",
    "    \n",
    "    if amount_of_1%2==0:\n",
    "        bin_str=bin_str+\"0\"\n",
    "    else:\n",
    "        bin_str=bin_str+\"1\"\n",
    "    print(amount_of_1)\n",
    "    return bin_str\n",
    "\n",
    "def AddCheckSum(file):\n",
    "    pass\n",
    "\n",
    "def AddErrorsWithoutRepetition(file,percentage):\n",
    "    \"\"\"\n",
    "    Change string to list and then add buffor which is going to go\n",
    "    alongside binary string and change random letters to another one\n",
    "    \"\"\"\n",
    "    file = list(file)\n",
    "    amount_of_errors = len(file)//((len(file)*percentage)//100)\n",
    "    buffor=0\n",
    "    while buffor<(len(file)-amount_of_errors): \n",
    "        temporary_random = random.randint(1,amount_of_errors)\n",
    "        buffor+= temporary_random\n",
    "        if file[buffor]==\"1\":\n",
    "            file[buffor]=\"0\"\n",
    "        else:\n",
    "            file[buffor]=\"1\"\n",
    "        buffor = buffor + amount_of_errors - temporary_random\n",
    "    return \"\".join(file)\n",
    "\n",
    "def AddErrorsWithRepetition(file,percentage):\n",
    "    \"\"\"\n",
    "    Change string to list and then get random bits and change them\n",
    "    \"\"\"\n",
    "    file = list(file)\n",
    "    amount_of_errors = len(file)//((len(file)*percentage)//100)\n",
    "    buffor=0\n",
    "    for i in range(amount_of_errors):\n",
    "        buffor = random.randint(1,len(file))\n",
    "        if file[buffor]==\"1\":\n",
    "            file[buffor]=\"0\"\n",
    "        else:\n",
    "            file[buffor]=\"1\"\n",
    "    return \"\".join(file)\n",
    "\n",
    "#Open file and change to binary\n",
    "file = open('Plik.txt', \"r\")\n",
    "for i in file:\n",
    "    string_bin = ''.join(format(ord(x), 'b') for x in i)\n",
    "    print(i)\n",
    "print(string_bin)\n",
    "\n"
   ]
  },
  {
   "cell_type": "code",
   "execution_count": null,
   "metadata": {
    "collapsed": true
   },
   "outputs": [],
   "source": []
  },
  {
   "cell_type": "code",
   "execution_count": 50,
   "metadata": {
    "collapsed": false
   },
   "outputs": [
    {
     "name": "stdout",
     "output_type": "stream",
     "text": [
      "380\n",
      "10101001101000110100111100111000001101001111001110000011001101101001111001011100111110100100000110010111110001100001110110111100001101100110010110110010000011101111101000110100111000111101000100000111011111010011101100110110010000011000111101000110010111000111101011100000110100011011111110111100000111010011010001100101100000110000111011001100111110111111100101101001111010011010001101101100000111011111011111110010110101111100111011101000001010100110100011001011110010110010110000011000011110010110010110000011001111101111110100111011101100111100000111010011011111000001100010110010110000011001110000011001011111000110000111011011110000110110011001011110011101110101110101110101110100000110011111100101110000\n",
      "10111001101100110110110100111000011101000111000110000010001100100001111101011100011110100110000010000111111001100001010110111000001001101110010110010110000011100111101100110000111001111111000101000101011111010111111100110010010010011000110101000010010011100111101010110000110101011011111010110100100111000011010001110001100001110000111001101100111110011011100100101101111010001010001111101100100111111110011101110011110101101100111001101100001011100110100111001001010010110011111000010000011111010110110110000111001111001111010000111001101100110100000110011011011111010001000010100000110000011101100000011001001111100110010101011011110010110010011001001010011100110101110111110111111100000111011111101101111000\n",
      "375\n",
      "10111001101100110110110100111000011101000111000110000010001100100001111101011100011110100110000010000111111001100001010110111000001001101110010110010110000011100111101100110000111001111111000101000101011111010111111100110010010010011000110101000010010011100111101010110000110101011011111010110100100111000011010001110001100001110000111001101100111110011011100100101101111010001010001111101100100111111110011101110011110101101100111001101100001011100110100111001001010010110011111000010000011111010110110110000111001111001111010000111001101100110100000110011011011111010001000010100000110000011101100000011001001111100110010101011011110010110010011001001010011100110101110111110111111100000111011111101101111001\n"
     ]
    }
   ],
   "source": [
    "#add parity bit and save to file\n",
    "string_bin = AddParityBit(string_bin)\n",
    "print(string_bin)\n",
    "bin_file = open(\"binary.txt\", \"w\")\n",
    "bin_file.write(string_bin)\n",
    "\n",
    "#add errors to binary string\n",
    "error_percentage = 13\n",
    "string_bin = AddErrorsWithoutRepetition(string_bin, error_percentage)\n",
    "print(string_bin)\n",
    "\n",
    "# check again parity bin\n",
    "string_bin = AddParityBit(string_bin[:-1:])\n",
    "print(string_bin)"
   ]
  }
 ],
 "metadata": {
  "kernelspec": {
   "display_name": "Python 3",
   "language": "python",
   "name": "python3"
  },
  "language_info": {
   "codemirror_mode": {
    "name": "ipython",
    "version": 3
   },
   "file_extension": ".py",
   "mimetype": "text/x-python",
   "name": "python",
   "nbconvert_exporter": "python",
   "pygments_lexer": "ipython3",
   "version": "3.4.3"
  }
 },
 "nbformat": 4,
 "nbformat_minor": 0
}
