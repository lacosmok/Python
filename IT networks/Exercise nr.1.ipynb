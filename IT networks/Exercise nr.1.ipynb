{
 "cells": [
  {
   "cell_type": "code",
   "execution_count": 189,
   "metadata": {
    "collapsed": false,
    "scrolled": true
   },
   "outputs": [],
   "source": [
    "import random\n",
    "def AddParityBit(bin_str):\n",
    "    \n",
    "    amount_of_1 = 0\n",
    "    for i in bin_str:\n",
    "        if i==\"1\":\n",
    "            amount_of_1 +=1\n",
    "    \n",
    "    if amount_of_1%2==0:\n",
    "        bin_str=bin_str+\"0\"\n",
    "    else:\n",
    "        bin_str=bin_str+\"1\"\n",
    "    print(amount_of_1)\n",
    "    return bin_str\n",
    "\n",
    "def AddModuloSum(file):\n",
    "    \"\"\"\n",
    "    modulo sum is summing 7x7 bits of information\n",
    "    \"\"\"\n",
    "    modulo_sum =0\n",
    "    i=0\n",
    "    while i+14 < len(file):\n",
    "        part_1 = int(file[i:i+7],2)\n",
    "        part_2 = int(file[i+7:i+14],2)\n",
    "        modulo_sum+= part_1^part_2\n",
    "        i+=14\n",
    "        #print(part_1,part_2)\n",
    "    return file + bin(modulo_sum)[2::]\n",
    "        \n",
    "def AddErrorsWithoutRepetition(file,percentage):\n",
    "    \"\"\"\n",
    "    Change string to list and then add buffor which is going to go\n",
    "    alongside binary string and change random letters to another one\n",
    "    \"\"\"\n",
    "    file = list(file)\n",
    "    amount_of_errors = int((len(file)*(percentage/100)))\n",
    "    amount_of_stops = int(len(file)/amount_of_errors)\n",
    "    buffor=0\n",
    "    while buffor<(len(file)-amount_of_stops): \n",
    "        temporary_random = random.randint(1,amount_of_stops)\n",
    "        buffor+= temporary_random\n",
    "        if file[buffor]==\"1\":\n",
    "            file[buffor]=\"0\"\n",
    "        else:\n",
    "            file[buffor]=\"1\"\n",
    "        buffor = buffor + amount_of_stops - temporary_random\n",
    "    return \"\".join(file)\n",
    "\n",
    "def AddErrorsWithRepetition(file,percentage):\n",
    "    \"\"\"\n",
    "    Change string to list and then get random bits and change them\n",
    "    \"\"\"\n",
    "    file = list(file)\n",
    "    amount_of_errors = int((len(file)*(percentage/100)))\n",
    "    buffor=0\n",
    "    for i in range(amount_of_errors):\n",
    "        buffor = random.randint(1,len(file))\n",
    "        if file[buffor]==\"1\":\n",
    "            file[buffor]=\"0\"\n",
    "        else:\n",
    "            file[buffor]=\"1\"\n",
    "    return \"\".join(file)\n",
    "\n",
    "def OpenFile(name):\n",
    "    #Open file and change to binary\n",
    "    file = open(name, \"r\")\n",
    "    for i in file:\n",
    "        string_bin = ''.join(format(ord(x), 'b') for x in i)\n",
    "    return string_bin\n",
    "\n",
    "def AddCRCSum(file, poly):\n",
    "    \"\"\"\n",
    "    ok, polynomial is in int atm.. just remember that it is possible to do int \"\",2\n",
    "    \n",
    "    \"\"\"\n",
    "    n = len(str(bin(poly)))-3\n",
    "    temp_file = list(file)\n",
    "    buffor = 0\n",
    "    while buffor < (len(temp_file)-n):\n",
    "        part_of_file = \"\".join(temp_file[buffor:buffor+4:])\n",
    "        part_of_file = int(part_of_file, 2)\n",
    "        part_of_file ^=  poly\n",
    "        part_of_file = list(str(bin(part_of_file))[2::])\n",
    "        # It is already made as str...\n",
    "        # Check if it have proper format\n",
    "        while len(part_of_file) < (n+1):\n",
    "            part_of_file.insert(0, \"0\")\n",
    "        for i in range(n):\n",
    "            temp_file[buffor+i] = part_of_file[i]\n",
    "        buffor +=1\n",
    "    file = list(file)\n",
    "    file += part_of_file[1:]\n",
    "    return \"\".join(file)\n",
    "\n",
    "def BackToStr(file):\n",
    "    i=0\n",
    "    output = \"\"\n",
    "    while i+14 < len(file):\n",
    "        part = chr(int(file[i:i+7],2))\n",
    "        i+=7\n",
    "        output+= (part)\n",
    "    return output"
   ]
  },
  {
   "cell_type": "code",
   "execution_count": 176,
   "metadata": {
    "collapsed": false
   },
   "outputs": [
    {
     "name": "stdout",
     "output_type": "stream",
     "text": [
      "10101001101000110100111100111000001101001111001110000011000011000001110000111001011011111100010110110011001011101101110000111101001101001110001110000011100011110101110010111100111110100110100111011111101110000\n",
      "10101001101000110100111100111000001101001111001110000011000011010001110000111001011011111100010110110011001011101101110000111101001101001110001110000011100111110101110010111100111110100110100111011111101110000110\n"
     ]
    }
   ],
   "source": [
    "\"\"\"\n",
    "Scenario with CRC method:\n",
    "\"\"\"\n",
    "#open file:\n",
    "string_bin = OpenFile(\"Plik.txt\")\n",
    "#add CRC sum and save\n",
    "outcome_crc = AddCRCSum(string_bin, 10)\n",
    "print(outcome_crc)\n",
    "#add errors\n",
    "outcome_with_errors = AddErrorsWithoutRepetition(outcome_crc, 1)\n",
    "#check outcome\n",
    "outcome = AddCRCSum(outcome_with_errors, 10)\n",
    "print (outcome)"
   ]
  },
  {
   "cell_type": "code",
   "execution_count": 191,
   "metadata": {
    "collapsed": false
   },
   "outputs": [
    {
     "name": "stdout",
     "output_type": "stream",
     "text": [
      "101010011010001101001111001110000011010011110011100000110000110000011100001110010110111111000101101100110010111011011100001111010011010011100011100000111000111101011100101111001111101001101001110111111011101101011011\n",
      "ThisASg\u0003\u0006\u0007\u0007\u0016~\u0016f.n\u000f&N\u001c",
      "\u000e\u001f\\^>I\u001d",
      "}m7\n"
     ]
    }
   ],
   "source": [
    "\"\"\"\n",
    "Scenario with modulo sum\n",
    "\"\"\"\n",
    "#open file:\n",
    "string_bin = OpenFile(\"Plik.txt\")\n",
    "#add modulo sum\n",
    "outcome_modulo = AddModuloSum(string_bin)\n",
    "print(outcome_modulo)\n",
    "# add errors\n",
    "outcome_with_errors = AddErrorsWithRepetition(outcome_modulo, 1)\n",
    "#check outcome\n",
    "outcome = AddModuloSum(outcome_with_errors[:-1:])\n",
    "print(BackToStr(outcome))\n"
   ]
  },
  {
   "cell_type": "code",
   "execution_count": 111,
   "metadata": {
    "collapsed": false
   },
   "outputs": [
    {
     "name": "stdout",
     "output_type": "stream",
     "text": [
      "25\n",
      "1010100110100011010011110011100000110100111100111\n",
      "1011100110100111010001110011001000111100111100111\n",
      "27\n",
      "1011100110100111010001110011001000111100111100111\n"
     ]
    }
   ],
   "source": [
    "\"\"\"\n",
    "Scenario with Parity bit\n",
    "\"\"\"\n",
    "#add parity bit and save to file\n",
    "string_bin = AddParityBit(string_bin)\n",
    "print(string_bin)\n",
    "bin_file = open(\"binary.txt\", \"w\")\n",
    "bin_file.write(string_bin)\n",
    "\n",
    "#add errors to binary string\n",
    "error_percentage = 13\n",
    "string_bin = AddErrorsWithoutRepetition(string_bin, error_percentage)\n",
    "print(string_bin)\n",
    "\n",
    "# check again parity bin\n",
    "string_bin = AddParityBit(string_bin[:-1:])\n",
    "print(string_bin)"
   ]
  },
  {
   "cell_type": "code",
   "execution_count": 174,
   "metadata": {
    "collapsed": false
   },
   "outputs": [
    {
     "data": {
      "text/plain": [
       "1.0"
      ]
     },
     "execution_count": 174,
     "metadata": {},
     "output_type": "execute_result"
    }
   ],
   "source": [
    "50*(0.02)\n"
   ]
  },
  {
   "cell_type": "code",
   "execution_count": 47,
   "metadata": {
    "collapsed": false
   },
   "outputs": [
    {
     "data": {
      "text/plain": [
       "21.5"
      ]
     },
     "execution_count": 47,
     "metadata": {},
     "output_type": "execute_result"
    }
   ],
   "source": [
    "43/2"
   ]
  },
  {
   "cell_type": "code",
   "execution_count": 76,
   "metadata": {
    "collapsed": false
   },
   "outputs": [
    {
     "data": {
      "text/plain": [
       "'0b1001110'"
      ]
     },
     "execution_count": 76,
     "metadata": {},
     "output_type": "execute_result"
    }
   ],
   "source": [
    "bin(ord(\"N\"))"
   ]
  },
  {
   "cell_type": "code",
   "execution_count": null,
   "metadata": {
    "collapsed": true
   },
   "outputs": [],
   "source": []
  }
 ],
 "metadata": {
  "kernelspec": {
   "display_name": "Python 3",
   "language": "python",
   "name": "python3"
  },
  "language_info": {
   "codemirror_mode": {
    "name": "ipython",
    "version": 3
   },
   "file_extension": ".py",
   "mimetype": "text/x-python",
   "name": "python",
   "nbconvert_exporter": "python",
   "pygments_lexer": "ipython3",
   "version": "3.4.3"
  }
 },
 "nbformat": 4,
 "nbformat_minor": 0
}
