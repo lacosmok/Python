{
 "cells": [
  {
   "cell_type": "code",
   "execution_count": 4,
   "metadata": {
    "collapsed": false
   },
   "outputs": [
    {
     "name": "stdout",
     "output_type": "stream",
     "text": [
      "2 9453\n",
      "0 69\n",
      "6839 [37813, 5856, 25665]\n",
      "pote ajp 34837\n",
      "c1 i c2 29918 14712\n",
      "t 22731\n"
     ]
    },
    {
     "data": {
      "text/plain": [
       "300"
      ]
     },
     "execution_count": 4,
     "metadata": {},
     "output_type": "execute_result"
    }
   ],
   "source": [
    "from random import randint\n",
    "import math\n",
    "\n",
    "def pote(pods,dziel,i):\n",
    "    i=bin(i)\n",
    "    #print(i)\n",
    "    licznik=1\n",
    "    wynik=1\n",
    "    temp=[pods for i in range(len(i)-1)]\n",
    "    temp[0]=pods\n",
    "    for item in i[:1:-1]:\n",
    "        temp[licznik]=temp[licznik-1]**2%dziel\n",
    "        if item==\"1\":\n",
    "            wynik=wynik*temp[licznik-1]\n",
    "        licznik+=1 \n",
    "    wynik=wynik%dziel\n",
    "    #print(temp)\n",
    "    return (wynik)\n",
    "\n",
    "def czy_pierwsza(n):\n",
    "    k=10\n",
    "    zm=n-1\n",
    "    d,q=spr(zm)\n",
    "    #print(\"D ORAZ Q\",d,q)\n",
    "    Czy_pierwsza=False\n",
    "    prawdziwy_swiadek=True\n",
    "    Czy_Kazdy_swiadek_prawdziwy=0\n",
    "    if zm<2:\n",
    "        return True      \n",
    "    for i in range(k):\n",
    "        b=randint(2,zm)\n",
    "        for j in range(d):\n",
    "            sprawdzanie=pote(b,n,(2**j)*q)\n",
    "            #print(\"reszta i liczba\",sprawdzanie,b)\n",
    "            if sprawdzanie==1 or sprawdzanie==zm:\n",
    "                prawdziwy_swiadek=False\n",
    "        if prawdziwy_swiadek==False:\n",
    "            Czy_Kazdy_swiadek_prawdziwy+=1\n",
    "        #print(\"ile świadków swiadczy o pierwszości?\",Czy_Kazdy_swiadek_prawdziwy)\n",
    "        prawdziwy_swiadek=True\n",
    "                #print(\"prawdziwi świadkowie\",b,sprawdzanie)\n",
    "    if Czy_Kazdy_swiadek_prawdziwy==k:\n",
    "        Czy_pierwsza=True\n",
    "    return Czy_pierwsza\n",
    "def spr(zm):\n",
    "    licz=0\n",
    "    while zm%2==0 and zm!=0:\n",
    "        zm=zm/2\n",
    "        licz+=1\n",
    "    return licz,int(zm)\n",
    "\n",
    "def fermat(liczba):\n",
    "    k,n=spr(liczba)\n",
    "    print(k,n)\n",
    "    x=math.floor(math.sqrt(n))\n",
    "    d={}\n",
    "    #ok, no to warunek na podwójną krotność\n",
    "    if x==math.sqrt(n):\n",
    "        if x not in d.keys():\n",
    "            d[x]=2\n",
    "        else:\n",
    "            d[x]+=2\n",
    "    else:\n",
    "        while x<((n+1)/2):\n",
    "            x+=1\n",
    "            y=(x*x-n)\n",
    "        #print(x,(n+1)/2)\n",
    "            spraw=math.floor(math.sqrt(y))\n",
    "        #print(spraw,(math.sqrt(y)))\n",
    "            if spraw==math.sqrt(y) and y>=0:\n",
    "                d1=int(x+math.sqrt(y))\n",
    "                d2=int(x-math.sqrt(y))\n",
    "                if czy_pierwsza(d1)==True: #jeśli pierwszy dzielnik jest pierwszy\n",
    "                    if d1 not in d.keys():\n",
    "                        d[d1]=1\n",
    "                    else:\n",
    "                        d[d1]+=1\n",
    "                if czy_pierwsza(d1)!=True: #jeśli pierwszy nie jest pierwszy:\n",
    "                    f=fermat(d1)\n",
    "                    d.update(f)\n",
    "                if czy_pierwsza(d2)!=True:   #jeśli drugi nie jest pierwszy                \n",
    "                    f=fermat(d2)\n",
    "                    d.update(f)\n",
    "                    break\n",
    "                if d2!=1 and czy_pierwsza(d2)==True: #i jeśli z kolei drugi jest pierwszy\n",
    "                    if d2 not in d.keys():\n",
    "                        d[d2]=1\n",
    "                    else:\n",
    "                        d[d2]+=1\n",
    "                    break\n",
    "    if not d:\n",
    "        d[liczba]=1\n",
    "    d[2]=k\n",
    "    return d\n",
    "\n",
    "def pier_pierwotny(n):\n",
    "    p=fermat(n-1)\n",
    "    test=False          #sprawdzająca czy dobre r\n",
    "    while (test==False):\n",
    "        r=randint(2,n-2)\n",
    "        # print(\"r\",r)\n",
    "        x=0\n",
    "        for i in p.keys():\n",
    "            if pote(r,i,i)!=1:\n",
    "                x+=1\n",
    "        if x==len(p):\n",
    "            test=True\n",
    "    return r\n",
    "\n",
    "def klucz(p):\n",
    "    r=pier_pierwotny(p)\n",
    "    k_prywatny=randint(2,p-2)\n",
    "    a=pote(r,p,k_prywatny)\n",
    "    k_publiczny=[p,r,a]\n",
    "    return k_prywatny,k_publiczny\n",
    "\n",
    "def szyfrowanie(B,p,r,a):\n",
    "    j=randint(2,p-2)\n",
    "    j=34310\n",
    "    print(\"pote ajp\",pote(a,p,j))\n",
    "    return pote(r,p,j),B*pote(a,p,j)%p\n",
    "def deszyfrowanie(C1,C2,p,k):\n",
    "    t=pote(C1,p,p-1-k)\n",
    "    print(\"t\",t)\n",
    "    return (t*C2)%p\n",
    "\n",
    "\"\"\"\"\"\n",
    "int szyfrowanie(int b)\n",
    "{\n",
    " long int r = tab2[1];\n",
    " long int p = tab2[0];\n",
    " long int j = rand() % (tab2[0] - 1);\n",
    " tab3[0] = modulo(r, j, p);\n",
    " tab3[1] = b*(modulo(tab2[2], j, p) % p);\n",
    " return 0;\n",
    "}\n",
    "\n",
    "long int deszyfrowanie()\n",
    "{\n",
    " long int a;\n",
    " long int k = modulo(tab3[0], tab2[0], (tab2[0] - 1 - tab2[3]));\n",
    " return (k * tab3[1]) % tab2[0];\n",
    "}\n",
    "\"\"\"\"\"\n",
    "\n",
    "\n",
    "\n",
    "\n",
    "\n",
    "liczba=37813 \n",
    "pryw,klucz=klucz(liczba)\n",
    "print(pryw,klucz)\n",
    "pryw,klucz=6739,[liczba,36410,6204]\n",
    "C1,C2=szyfrowanie(300,klucz[0],klucz[1],klucz[2])\n",
    "print(\"c1 i c2\",C1,C2)\n",
    "deszyfrowanie(C1,C2,klucz[0],pryw)"
   ]
  },
  {
   "cell_type": "code",
   "execution_count": 11,
   "metadata": {
    "collapsed": false
   },
   "outputs": [
    {
     "data": {
      "text/plain": [
       "1000"
      ]
     },
     "execution_count": 11,
     "metadata": {},
     "output_type": "execute_result"
    }
   ],
   "source": [
    "125*8"
   ]
  },
  {
   "cell_type": "code",
   "execution_count": 1,
   "metadata": {
    "collapsed": false
   },
   "outputs": [
    {
     "data": {
      "text/plain": [
       "4510"
      ]
     },
     "execution_count": 1,
     "metadata": {},
     "output_type": "execute_result"
    }
   ],
   "source": [
    "(8701500%37813)"
   ]
  },
  {
   "cell_type": "code",
   "execution_count": null,
   "metadata": {
    "collapsed": true
   },
   "outputs": [],
   "source": [
    "pote"
   ]
  }
 ],
 "metadata": {
  "kernelspec": {
   "display_name": "Python 3",
   "language": "python",
   "name": "python3"
  },
  "language_info": {
   "codemirror_mode": {
    "name": "ipython",
    "version": 3
   },
   "file_extension": ".py",
   "mimetype": "text/x-python",
   "name": "python",
   "nbconvert_exporter": "python",
   "pygments_lexer": "ipython3",
   "version": "3.4.3"
  }
 },
 "nbformat": 4,
 "nbformat_minor": 0
}
