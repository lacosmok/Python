{
 "cells": [
  {
   "cell_type": "code",
   "execution_count": 3,
   "metadata": {
    "collapsed": false
   },
   "outputs": [
    {
     "name": "stdout",
     "output_type": "stream",
     "text": [
      "[(1, 'a'), (1, 'b'), (1, 'c'), (2, 'a'), (2, 'b'), (2, 'c')]\n",
      "[[], [1], [2], [3], [1, 2], [1, 3], [2, 3], [1, 2, 3]]\n",
      "[(0, 0, 0), (0, 0, 1), (0, 1, 0), (0, 1, 1), (1, 0, 0), (1, 0, 1), (1, 1, 0), (1, 1, 1)]\n"
     ]
    }
   ],
   "source": [
    "import itertools\n",
    "\n",
    "def subsets(elems,n=0):\n",
    "    if n==0:\n",
    "        n=len(elems)\n",
    "    wynik=[[] for i in range(2**len(elems))]\n",
    "    i=0\n",
    "    for j in range(n+1):\n",
    "        for part in list(itertools.combinations(elems,j)):\n",
    "            #print(list(part))\n",
    "            wynik[i]=wynik[i]+list(part)\n",
    "            i+=1\n",
    "    return wynik\n",
    "def tuples(elems,n):\n",
    "    return list(itertools.product(elems,repeat=n))\n",
    "\n",
    "def outer(*lists):\n",
    "    return list(itertools.product(*lists))\n",
    "print(outer([1,2],[\"a\",\"b\",\"c\"]))\n",
    "print(subsets([1,2,3]))\n",
    "print(tuples([0, 1], 3))"
   ]
  },
  {
   "cell_type": "code",
   "execution_count": null,
   "metadata": {
    "collapsed": true
   },
   "outputs": [],
   "source": []
  }
 ],
 "metadata": {
  "kernelspec": {
   "display_name": "Python 3",
   "language": "python",
   "name": "python3"
  },
  "language_info": {
   "codemirror_mode": {
    "name": "ipython",
    "version": 3
   },
   "file_extension": ".py",
   "mimetype": "text/x-python",
   "name": "python",
   "nbconvert_exporter": "python",
   "pygments_lexer": "ipython3",
   "version": "3.4.3"
  }
 },
 "nbformat": 4,
 "nbformat_minor": 0
}
