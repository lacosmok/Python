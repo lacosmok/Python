{
 "cells": [
  {
   "cell_type": "code",
   "execution_count": 1,
   "metadata": {
    "collapsed": false
   },
   "outputs": [
    {
     "name": "stdout",
     "output_type": "stream",
     "text": [
      "Gotowe\n"
     ]
    }
   ],
   "source": [
    "file = open(\"lab1.txt\", \"r\")\n",
    "out= open(\"output.txt\", \"w\")\n",
    "code=[\"b\",\"a\",\"r\",\"d\"]\n",
    "#      0,   1 , 2, 3\n",
    "i=0\n",
    "string=\"\"\n",
    "for word in file:\n",
    "    for letter in word:\n",
    "        new=chr(((ord(letter)+ord(code[i])-97*2)%26)+97) #it+co=2+8mod 26=10+97=107 k/ 14+19mod26+97=33%26+97=104 h\n",
    "        #działa\n",
    "        i=i+1\n",
    "        if i==len(code):\n",
    "            i=0\n",
    "        string=string+new # pierwsza cześć kodowanie\n",
    "print(\"Gotowe\")\n",
    "out.write(string)\n",
    "file.close()\n",
    "out.close()\n",
    "\n",
    "\n"
   ]
  },
  {
   "cell_type": "code",
   "execution_count": null,
   "metadata": {
    "collapsed": true
   },
   "outputs": [],
   "source": []
  },
  {
   "cell_type": "code",
   "execution_count": null,
   "metadata": {
    "collapsed": true
   },
   "outputs": [],
   "source": []
  }
 ],
 "metadata": {
  "kernelspec": {
   "display_name": "Python 3",
   "language": "python",
   "name": "python3"
  },
  "language_info": {
   "codemirror_mode": {
    "name": "ipython",
    "version": 3
   },
   "file_extension": ".py",
   "mimetype": "text/x-python",
   "name": "python",
   "nbconvert_exporter": "python",
   "pygments_lexer": "ipython3",
   "version": "3.4.3"
  }
 },
 "nbformat": 4,
 "nbformat_minor": 0
}
