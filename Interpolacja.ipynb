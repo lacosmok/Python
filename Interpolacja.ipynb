{
 "cells": [
  {
   "cell_type": "code",
   "execution_count": 9,
   "metadata": {
    "collapsed": false
   },
   "outputs": [
    {
     "name": "stdout",
     "output_type": "stream",
     "text": [
      "4\n",
      "0\n",
      "1\n",
      "2\n",
      "3\n",
      "element nr 4 jest on równy 4\n",
      "gotowe\n"
     ]
    }
   ],
   "source": [
    "import math\n",
    "ta=[1,2,3,4,5,6,7,8,97]\n",
    "x=int(input())\n",
    "l=0\n",
    "p=len(ta)-1\n",
    "alfa=(x-ta[l])/(ta[p]-ta[l])\n",
    "k=math.floor(l+alfa*(p-l))\n",
    "while (ta[k]!=x) and alfa<=1 and alfa>=0:\n",
    "    alfa=(x-ta[l])/(ta[p]-ta[l])\n",
    "    if alfa>=0 and alfa<=1:\n",
    "        k=math.floor(l+alfa*(p-l))\n",
    "        print(k)\n",
    "        if x>ta[k]:\n",
    "            l=k+1\n",
    "        else:\n",
    "            if x<ta[k]:\n",
    "                p=k-1\n",
    "print(\"element nr\",k+1,\"jest on równy\",ta[k])\n",
    "print(\"gotowe\")"
   ]
  },
  {
   "cell_type": "code",
   "execution_count": null,
   "metadata": {
    "collapsed": true
   },
   "outputs": [],
   "source": []
  },
  {
   "cell_type": "code",
   "execution_count": null,
   "metadata": {
    "collapsed": true
   },
   "outputs": [],
   "source": []
  }
 ],
 "metadata": {
  "kernelspec": {
   "display_name": "Python 3",
   "language": "python",
   "name": "python3"
  }
 },
 "nbformat": 4,
 "nbformat_minor": 0
}
