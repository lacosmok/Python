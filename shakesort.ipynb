{
 "cells": [
  {
   "cell_type": "code",
   "execution_count": 15,
   "metadata": {
    "collapsed": false
   },
   "outputs": [
    {
     "name": "stdout",
     "output_type": "stream",
     "text": [
      "[4, 2, 9, 5, 8, 7, 8]\n",
      "[2, 4, 5, 9, 7, 8, 8]\n",
      "[2, 4, 5, 7, 8, 8, 9]\n",
      "[2, 4, 5, 7, 8, 8, 9]\n",
      "[2, 4, 5, 7, 8, 8, 9]\n",
      "gotowe\n"
     ]
    }
   ],
   "source": [
    "tab=[4,2,9,5,8,7,8]\n",
    "l=1\n",
    "r=len(tab)\n",
    "k=len(tab)\n",
    "print(tab)\n",
    "while (l<=r):\n",
    "    for j in range(l,r)[::-1]:\n",
    "        if tab[j-1]>tab[j]:\n",
    "            x=tab[j-1]\n",
    "            tab[j-1]=tab[j]\n",
    "            tab[j]=x\n",
    "            k=j\n",
    "    l=k+1\n",
    "    print(tab)\n",
    "    for j in range(l,r):\n",
    "        if tab[j-1]>tab[j]:\n",
    "            x=tab[j-1]\n",
    "            tab[j-1]=tab[j]\n",
    "            tab[j]=x\n",
    "            k=j\n",
    "    r=k-1\n",
    "    print(tab)\n",
    "print(\"gotowe\")"
   ]
  },
  {
   "cell_type": "code",
   "execution_count": null,
   "metadata": {
    "collapsed": true
   },
   "outputs": [],
   "source": []
  }
 ],
 "metadata": {
  "kernelspec": {
   "display_name": "Python 3",
   "language": "python",
   "name": "python3"
  },
  "language_info": {
   "codemirror_mode": {
    "name": "ipython",
    "version": 3
   },
   "file_extension": ".py",
   "mimetype": "text/x-python",
   "name": "python",
   "nbconvert_exporter": "python",
   "pygments_lexer": "ipython3",
   "version": "3.4.3"
  }
 },
 "nbformat": 4,
 "nbformat_minor": 0
}
