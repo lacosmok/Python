{
 "cells": [
  {
   "cell_type": "code",
   "execution_count": 11,
   "metadata": {
    "collapsed": false
   },
   "outputs": [
    {
     "name": "stdout",
     "output_type": "stream",
     "text": [
      "a to jest sboxe  [0, 0, 0, 1]\n",
      "po xorze 1011 0001 ['1', '0', '1', '0']\n",
      "po xorze [0, 0, 0, 1] ['1', '0', '1', '0'] ['1', '0', '1', '1']\n",
      "po xorze 0111 ['1', '0', '1', '1'] ['1', '1', '0', '0']\n",
      "po xorze 1111 ['1', '1', '0', '0'] ['0', '0', '1', '1']\n",
      "po xorze 0011 ['0', '0', '1', '1'] ['0', '0', '0', '0']\n",
      "po xorze ['1', '0', '1', '1'] 0010 ['1', '0', '0', '1']\n",
      "po xorze [1, 1, 1, 0] ['1', '0', '0', '1'] ['0', '1', '1', '1']\n",
      "po xorze ['1', '1', '0', '0'] ['0', '1', '1', '1'] ['1', '0', '1', '1']\n",
      "po xorze ['0', '0', '1', '1'] ['1', '0', '1', '1'] ['1', '0', '0', '0']\n",
      "po xorze ['0', '0', '0', '0'] ['1', '0', '0', '0'] ['1', '0', '0', '0']\n",
      "([['1', '0', '1', '1'], ['1', '1', '0', '0'], ['0', '0', '1', '1'], ['0', '0', '0', '0']], [['0', '1', '1', '1'], ['1', '0', '1', '1'], ['1', '0', '0', '0'], ['1', '0', '0', '0']])\n",
      "gotowe\n"
     ]
    }
   ],
   "source": [
    "def to_matrix(lista):\n",
    "    lista2=[]\n",
    "    for item in lista:\n",
    "        item=str(item)\n",
    "        lista2.append(item[:4])\n",
    "        lista2.append(item[4:8])\n",
    "        lista2.append(item[8:12])\n",
    "        lista2.append(item[12:16])\n",
    "    return lista2\n",
    "def XOR(x,y):\n",
    "    w=[\"\" for i in range(len(x))]\n",
    "    for i in range(len(x)):\n",
    "        if (x[i]==\"1\" or x[i]==1) and y[i]==\"0\" or (x[i]==\"0\" or x[i]==0) and y[i]==\"1\":\n",
    "            w[i]=\"1\"\n",
    "        else:\n",
    "            w[i]=\"0\"\n",
    "    print(\"po xorze\",x,y,w)\n",
    "    return w\n",
    "def klucze(k0):\n",
    "    k0=to_matrix(k0)\n",
    "    print(\"a to jest sboxe \",sboxe[int(k0[3][0]),int(k0[3][1]),int(k0[3][2]),int(k0[3][3])])\n",
    "    k1=[0 for i in range(4)]\n",
    "    k2=[0 for i in range(4)]\n",
    "    k1[0]=XOR((sboxe[int(k0[3][0]),int(k0[3][1]),int(k0[3][2]),int(k0[3][3])]),XOR(k0[0],\"0001\"))\n",
    "    k1[1]=XOR(k0[1],k1[0])\n",
    "    k1[2]=XOR(k0[2],k1[1])\n",
    "    k1[3]=XOR(k0[3],k1[2])\n",
    "    #a teraz klucz 2\n",
    "    k2[0]=XOR(sboxe[int(k1[3][0]),int(k1[3][1]),int(k1[3][2]),int(k1[3][3])],XOR(k1[0],\"0010\"))\n",
    "    k2[1]=XOR(k1[1],k2[0])\n",
    "    k2[2]=XOR(k1[2],k2[1])\n",
    "    k2[3]=XOR(k1[3],k2[2])\n",
    "    return k1,k2\n",
    "f=open(\"sboxd.txt\",'r')\n",
    "g=open(\"sboxe.txt\",'r')\n",
    "sboxd = eval(f.read())\n",
    "sboxe = eval(g.read())\n",
    "f.close()\n",
    "g.close()\n",
    "#print(sboxd)\n",
    "#print(sboxe)\n",
    "klucz0=[\"1011011111110011\"]\n",
    "tekst=[\"1100010011010011\"]\n",
    "klu=klucze(klucz0)\n",
    "print(klu)\n",
    "print(\"gotowe\")"
   ]
  },
  {
   "cell_type": "code",
   "execution_count": null,
   "metadata": {
    "collapsed": true
   },
   "outputs": [],
   "source": []
  }
 ],
 "metadata": {
  "kernelspec": {
   "display_name": "Python 3",
   "language": "python",
   "name": "python3"
  },
  "language_info": {
   "codemirror_mode": {
    "name": "ipython",
    "version": 3
   },
   "file_extension": ".py",
   "mimetype": "text/x-python",
   "name": "python",
   "nbconvert_exporter": "python",
   "pygments_lexer": "ipython3",
   "version": "3.4.3"
  }
 },
 "nbformat": 4,
 "nbformat_minor": 0
}
