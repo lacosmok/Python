{
 "cells": [
  {
   "cell_type": "code",
   "execution_count": 71,
   "metadata": {
    "collapsed": false
   },
   "outputs": [
    {
     "name": "stdout",
     "output_type": "stream",
     "text": [
      "[0, 0, 0, 1]\n",
      "(['1011', '1100', '0011', '0000'], ['0111', '1011', '1000', '1000'])\n",
      "gotowe\n"
     ]
    }
   ],
   "source": [
    "def to_matrix(lista):\n",
    "    lista2=[]\n",
    "    for item in lista:\n",
    "        item=str(item)\n",
    "        lista2.append(item[:4])\n",
    "        lista2.append(item[4:8])\n",
    "        lista2.append(item[8:12])\n",
    "        lista2.append(item[12:16])\n",
    "    return lista2\n",
    "def ZK(macierz):\n",
    "    macierz=macierz[0]+macierz[1]+macierz[3]+macierz[2]\n",
    "    return macierz\n",
    "def dodawanie(cz1,cz2):\n",
    "    cz1=(int(cz1,2))\n",
    "    cz2=(int(cz2,2))\n",
    "    wynik=bin(cz1^cz2)\n",
    "    wynik=str(wynik)[2:]    \n",
    "    return wynik\n",
    "def XOR(x,y):\n",
    "    if isinstance(x, list):\n",
    "        x1=\"\"\n",
    "        for i in x:\n",
    "            x1=x1+str(i)\n",
    "        x=x1\n",
    "    if isinstance(y, list):\n",
    "        y1=\"\"\n",
    "        for i in y:\n",
    "            y1=y1+str(i)\n",
    "        y=y1\n",
    "    if isinstance(x, str):\n",
    "        x=int(x,2)\n",
    "    if isinstance(y, str):\n",
    "        y=int(y,2) \n",
    "    wynik=bin(x^y)\n",
    "    wynik=str(wynik)[2:]\n",
    "    while len(wynik)<4:\n",
    "            wynik=\"0\"+wynik   \n",
    "    return wynik\n",
    "f=open(\"sboxd.txt\",'r')\n",
    "g=open(\"sboxe.txt\",'r')\n",
    "sboxd = eval(f.read())\n",
    "sboxe = eval(g.read())\n",
    "f.close()\n",
    "g.close()\n",
    "def klucze(k0):\n",
    "    k0=to_matrix(k0)\n",
    "    print(sboxe[int(k0[3][0]),int(k0[3][1]),int(k0[3][2]),int(k0[3][3])])\n",
    "    k1=[0 for i in range(4)]\n",
    "    k2=[0 for i in range(4)]\n",
    "    k1[0]=XOR(sboxe[int(k0[3][0]),int(k0[3][1]),int(k0[3][2]),int(k0[3][3])],XOR(k0[0],\"0001\"))\n",
    "    k1[1]=XOR(k0[1],k1[0])\n",
    "    k1[2]=XOR(k0[2],k1[1])\n",
    "    k1[3]=XOR(k0[3],k1[2])\n",
    "    #a teraz klucz 2\n",
    "    k2[0]=XOR(sboxe[int(k1[3][0]),int(k1[3][1]),int(k1[3][2]),int(k1[3][3])],XOR(k1[0],\"0010\"))\n",
    "    k2[1]=XOR(k1[1],k2[0])\n",
    "    k2[2]=XOR(k1[2],k2[1])\n",
    "    k2[3]=XOR(k1[3],k2[2])\n",
    "    return k1,k2\n",
    "f=open(\"sboxd.txt\",'r')\n",
    "g=open(\"sboxe.txt\",'r')\n",
    "sboxd = eval(f.read())\n",
    "sboxe = eval(g.read())\n",
    "f.close()\n",
    "g.close()\n",
    "klucz0=[\"1011011111110011\"]\n",
    "tekst=[\"1100010011010011\"]\n",
    "klu=klucze(klucz0)\n",
    "print(klu)\n",
    "print(\"gotowe\")\n",
    "#print(sboxd)\n",
    "#print(sboxe)"
   ]
  },
  {
   "cell_type": "code",
   "execution_count": null,
   "metadata": {
    "collapsed": false
   },
   "outputs": [],
   "source": [
    "def to_matrix(lista) :\n",
    "    lista2=[]\n",
    "    for item in lista:\n",
    "        item=str(item)\n",
    "        lista2.append(item[:4])\n",
    "        lista2.append(item[4:8])\n",
    "        lista2.append(item[8:12])\n",
    "        lista2.append(item[12:16])\n",
    "    return lista2\n",
    "def dodawanie(cz1,cz2):\n",
    "    wynik=[0 for i in range(len(cz1))]\n",
    "    for i in range(len(cz1)):\n",
    "        cz1[i]=(int(cz1[i],2))\n",
    "        cz2[i]=(int(cz2[i],2))\n",
    "        print(wynik)\n",
    "        wynik[i]=bin(cz1[i]^cz2[i])\n",
    "        wynik[i]=str(wynik[i])[2:]    \n",
    "    return wynik            \n",
    "    return wynik\n",
    "wejscie=[1110011011010001]\n",
    "wejscie=to_list(wejscie)\n",
    "wejscie1=[1100010011010011]\n",
    "wejscie1=to_list(wejscie1)\n",
    "print (wejscie)\n",
    "wejscie1=mnozenie(wejscie,wejscie1)\n",
    "print(wejscie1)\n",
    "\n",
    "\n",
    "\n",
    "\n",
    "\n"
   ]
  },
  {
   "cell_type": "code",
   "execution_count": 7,
   "metadata": {
    "collapsed": false
   },
   "outputs": [
    {
     "name": "stdout",
     "output_type": "stream",
     "text": [
      "['1011', '10110', '101100', '1011000'] 4\n",
      "0\n",
      "11\n",
      "29\n",
      "49\n"
     ]
    },
    {
     "data": {
      "text/plain": [
       "'1101001'"
      ]
     },
     "execution_count": 7,
     "metadata": {},
     "output_type": "execute_result"
    }
   ],
   "source": [
    "def to_list(lista):\n",
    "    lista2=[]\n",
    "    for letter in lista:\n",
    "        lista2.append(letter)\n",
    "    return lista2\n",
    "def XOR(wejscie,klucz_p):\n",
    "    wejscie=(int(wejscie,2))\n",
    "    klucz_p=(int(klucz_p,2))\n",
    "    wynik=(wejscie^klucz_p)\n",
    "    return wynik\n",
    "def mnozenie(cz1,cz2):\n",
    "    tab=[]\n",
    "    for i in range(4):\n",
    "        if cz1[i]==\"1\":\n",
    "            #print(cz1[i])\n",
    "            cz=cz2+\"0\"*i\n",
    "            tab.append(cz)\n",
    "    print (tab, len(tab))\n",
    "    suma=0\n",
    "    for i in range(len(tab)):\n",
    "        print(suma)\n",
    "        suma=XOR(bin(suma),tab[i])  \n",
    "    suma=odejmowanie(suma)\n",
    "    return (suma)\n",
    "\n",
    "         \n",
    "        \n",
    "    return wynik\n",
    "mnozenie(\"1111\",\"1011\")"
   ]
  },
  {
   "cell_type": "code",
   "execution_count": 46,
   "metadata": {
    "collapsed": false
   },
   "outputs": [
    {
     "name": "stdout",
     "output_type": "stream",
     "text": [
      "1001\n"
     ]
    },
    {
     "data": {
      "text/plain": [
       "['0010', '1100', '1011', '1101']"
      ]
     },
     "execution_count": 46,
     "metadata": {},
     "output_type": "execute_result"
    }
   ],
   "source": [
    "#tworzenie klucza\n",
    "def XOR(x,y):\n",
    "    if isinstance(x, list):\n",
    "        x1=\"\"\n",
    "        for i in x:\n",
    "            x1=x1+str(i)\n",
    "        x=x1\n",
    "    if isinstance(y, list):\n",
    "        y1=\"\"\n",
    "        for i in y:\n",
    "            y1=y1+str(i)\n",
    "        y=y1\n",
    "    if isinstance(x, str):\n",
    "        x=int(x,2)\n",
    "    if isinstance(y, str):\n",
    "        y=int(y,2) \n",
    "    wynik=bin(x^y)\n",
    "    wynik=str(wynik)[2:]\n",
    "    while len(wynik)<4:\n",
    "            wynik=\"0\"+wynik   \n",
    "    return wynik\n",
    "def to_list(lista):\n",
    "    lista2=[]\n",
    "    lista2.append(lista[:4])\n",
    "    lista2.append(lista[4:8])\n",
    "    lista2.append(lista[8:12])\n",
    "    lista2.append(lista[12:16])\n",
    "    return lista2\n",
    "f=open(\"sboxd.txt\",'r')\n",
    "g=open(\"sboxe.txt\",'r')\n",
    "sboxd = eval(f.read())\n",
    "sboxe = eval(g.read())\n",
    "f.close()\n",
    "g.close()\n",
    "def klucze(k0):\n",
    "    k0=to_list(k0)\n",
    "    print(k0[0])\n",
    "    k1=[0 for i in range(4)]\n",
    "    sb=tuple(k0[0])\n",
    "    k1[0]=XOR(sboxe[int(k0[0][0]),int(k0[0][1]),int(k0[0][2]),int(k0[0][3])],XOR(k0[0],\"0001\"))\n",
    "    k1[1]=XOR(k0[1],k1[0])\n",
    "    k1[2]=XOR(k0[2],k1[1])\n",
    "    k1[3]=XOR(k0[3],k1[2])\n",
    "    return k1\n",
    "klucze(\"1001111001110110\")"
   ]
  },
  {
   "cell_type": "code",
   "execution_count": 23,
   "metadata": {
    "collapsed": false
   },
   "outputs": [
    {
     "name": "stdout",
     "output_type": "stream",
     "text": [
      "true\n"
     ]
    }
   ],
   "source": [
    "x=   \"toto\"\n",
    "if isinstance(x, str):\n",
    "    print(\"true\")"
   ]
  },
  {
   "cell_type": "code",
   "execution_count": 31,
   "metadata": {
    "collapsed": false
   },
   "outputs": [
    {
     "ename": "TypeError",
     "evalue": "sequence item 0: expected str instance, int found",
     "output_type": "error",
     "traceback": [
      "\u001b[1;31m---------------------------------------------------------------------------\u001b[0m",
      "\u001b[1;31mTypeError\u001b[0m                                 Traceback (most recent call last)",
      "\u001b[1;32m<ipython-input-31-7776b236f9f5>\u001b[0m in \u001b[0;36m<module>\u001b[1;34m()\u001b[0m\n\u001b[1;32m----> 1\u001b[1;33m \u001b[1;34m\"\"\u001b[0m\u001b[1;33m.\u001b[0m\u001b[0mjoin\u001b[0m\u001b[1;33m(\u001b[0m\u001b[1;33m[\u001b[0m\u001b[1;36m1\u001b[0m\u001b[1;33m,\u001b[0m\u001b[1;36m1\u001b[0m\u001b[1;33m,\u001b[0m\u001b[1;36m1\u001b[0m\u001b[1;33m,\u001b[0m\u001b[1;36m1\u001b[0m\u001b[1;33m]\u001b[0m\u001b[1;33m[\u001b[0m\u001b[1;36m1\u001b[0m\u001b[1;33m:\u001b[0m\u001b[1;36m8\u001b[0m\u001b[1;33m:\u001b[0m\u001b[1;33m]\u001b[0m\u001b[1;33m)\u001b[0m\u001b[1;33m\u001b[0m\u001b[0m\n\u001b[0m",
      "\u001b[1;31mTypeError\u001b[0m: sequence item 0: expected str instance, int found"
     ]
    }
   ],
   "source": []
  },
  {
   "cell_type": "code",
   "execution_count": null,
   "metadata": {
    "collapsed": false
   },
   "outputs": [],
   "source": []
  },
  {
   "cell_type": "code",
   "execution_count": null,
   "metadata": {
    "collapsed": false
   },
   "outputs": [],
   "source": []
  },
  {
   "cell_type": "code",
   "execution_count": null,
   "metadata": {
    "collapsed": true
   },
   "outputs": [],
   "source": []
  }
 ],
 "metadata": {
  "kernelspec": {
   "display_name": "Python 3",
   "language": "python",
   "name": "python3"
  },
  "language_info": {
   "codemirror_mode": {
    "name": "ipython",
    "version": 3
   },
   "file_extension": ".py",
   "mimetype": "text/x-python",
   "name": "python",
   "nbconvert_exporter": "python",
   "pygments_lexer": "ipython3",
   "version": "3.4.3"
  }
 },
 "nbformat": 4,
 "nbformat_minor": 0
}
