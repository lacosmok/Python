{
 "cells": [
  {
   "cell_type": "code",
   "execution_count": 25,
   "metadata": {
    "collapsed": false
   },
   "outputs": [
    {
     "name": "stdout",
     "output_type": "stream",
     "text": [
      "62\n",
      "D ORAZ Q 1 23709\n",
      "reszta i liczba 47418 19138\n",
      "reszta i liczba 47418 30546\n",
      "reszta i liczba 1 7517\n",
      "reszta i liczba 47418 36910\n",
      "reszta i liczba 47418 4303\n",
      "reszta i liczba 1 45122\n",
      "reszta i liczba 1 15309\n",
      "reszta i liczba 47418 29082\n",
      "reszta i liczba 1 23311\n",
      "reszta i liczba 1 29951\n",
      "True 29951 10\n"
     ]
    }
   ],
   "source": [
    "from random import randint\n",
    "def pote(pods,dziel,i):\n",
    "    i=bin(i)\n",
    "    licznik=1\n",
    "    wynik=1\n",
    "    temp=[pods for i in range(len(i)-1)]\n",
    "    temp[0]=pods\n",
    "    for item in i[:1:-1]:\n",
    "        temp[licznik]=temp[licznik-1]**2%dziel\n",
    "        if item==\"1\":\n",
    "            wynik=wynik*temp[licznik-1]\n",
    "        licznik+=1 \n",
    "    wynik=wynik%dziel\n",
    "    #print(temp)\n",
    "    return (wynik)\n",
    "def spr(zm):\n",
    "    licz=0\n",
    "    while zm%2==0:\n",
    "        zm=zm/2\n",
    "        licz+=1\n",
    "    return licz,int(zm)\n",
    "print(pote(5,137,41))\n",
    "n=47419\n",
    "k=10\n",
    "zm=n-1\n",
    "d,q=spr(zm)\n",
    "print(\"D ORAZ Q\",d,q)\n",
    "Czy_pierwsza=False\n",
    "zap=0\n",
    "spr=0\n",
    "for i in range(k):\n",
    "    b=randint(3,zm)\n",
    "    for j in range(d):\n",
    "        sprawdzanie=pote(b,n,(2**j)*q)\n",
    "        print(\"reszta i liczba\",sprawdzanie,b)\n",
    "        if sprawdzanie==1 or sprawdzanie==zm:\n",
    "            #Czy_pierwsza=True\n",
    "            zap=b\n",
    "            spr+=1\n",
    "            #print(\"prawdziwi świadkowie\",b,sprawdzanie)\n",
    "if spr==k:\n",
    "    Czy_pierwsza=True\n",
    "print(Czy_pierwsza,zap,spr)"
   ]
  },
  {
   "cell_type": "code",
   "execution_count": 21,
   "metadata": {
    "collapsed": false
   },
   "outputs": [
    {
     "data": {
      "text/plain": [
       "1"
      ]
     },
     "execution_count": 21,
     "metadata": {},
     "output_type": "execute_result"
    }
   ],
   "source": [
    "((1004323)**(991-1))%991"
   ]
  },
  {
   "cell_type": "code",
   "execution_count": 239,
   "metadata": {
    "collapsed": true
   },
   "outputs": [],
   "source": [
    "b=randint(1,n)"
   ]
  },
  {
   "cell_type": "code",
   "execution_count": 227,
   "metadata": {
    "collapsed": false
   },
   "outputs": [
    {
     "data": {
      "text/plain": [
       "332"
      ]
     },
     "execution_count": 227,
     "metadata": {},
     "output_type": "execute_result"
    }
   ],
   "source": [
    "83*4"
   ]
  },
  {
   "cell_type": "code",
   "execution_count": 178,
   "metadata": {
    "collapsed": false
   },
   "outputs": [
    {
     "data": {
      "text/plain": [
       "1"
      ]
     },
     "execution_count": 178,
     "metadata": {},
     "output_type": "execute_result"
    }
   ],
   "source": []
  },
  {
   "cell_type": "code",
   "execution_count": null,
   "metadata": {
    "collapsed": true
   },
   "outputs": [],
   "source": []
  }
 ],
 "metadata": {
  "kernelspec": {
   "display_name": "Python 3",
   "language": "python",
   "name": "python3"
  },
  "language_info": {
   "codemirror_mode": {
    "name": "ipython",
    "version": 3
   },
   "file_extension": ".py",
   "mimetype": "text/x-python",
   "name": "python",
   "nbconvert_exporter": "python",
   "pygments_lexer": "ipython3",
   "version": "3.4.3"
  }
 },
 "nbformat": 4,
 "nbformat_minor": 0
}
