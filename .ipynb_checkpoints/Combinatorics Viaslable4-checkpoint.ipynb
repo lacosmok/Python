{
 "cells": [
  {
   "cell_type": "code",
   "execution_count": 27,
   "metadata": {
    "collapsed": false
   },
   "outputs": [
    {
     "data": {
      "text/plain": [
       "([1, 2, 3], ['a', 'b', 'c'])"
      ]
     },
     "execution_count": 27,
     "metadata": {},
     "output_type": "execute_result"
    }
   ],
   "source": [
    "import itertools\n",
    "\n",
    "def subsets(l,n=0):\n",
    "    if n==0:\n",
    "        n=len(l)\n",
    "    wynik=[[] for i in range(2**len(l))]\n",
    "    i=0\n",
    "    for j in range(n+1):\n",
    "        for part in list(itertools.combinations(l,j)):\n",
    "            #print(list(part))\n",
    "            wynik[i]=wynik[i]+list(part)\n",
    "            i+=1\n",
    "    return wynik\n",
    "def touples(elems,n):\n",
    "    return list(itertools.product(elems,repeat=n))\n",
    "#touples([0,1],3)\n",
    "\n",
    "def outer(*lists):\n",
    "    for lis in lists:\n",
    "        l\n",
    "outer([1,2,3],[\"a\",\"b\",\"c\"])"
   ]
  },
  {
   "cell_type": "code",
   "execution_count": null,
   "metadata": {
    "collapsed": true
   },
   "outputs": [],
   "source": []
  }
 ],
 "metadata": {
  "kernelspec": {
   "display_name": "Python 3",
   "language": "python",
   "name": "python3"
  },
  "language_info": {
   "codemirror_mode": {
    "name": "ipython",
    "version": 3
   },
   "file_extension": ".py",
   "mimetype": "text/x-python",
   "name": "python",
   "nbconvert_exporter": "python",
   "pygments_lexer": "ipython3",
   "version": "3.4.3"
  }
 },
 "nbformat": 4,
 "nbformat_minor": 0
}
