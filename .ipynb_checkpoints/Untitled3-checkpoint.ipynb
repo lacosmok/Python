{
 "cells": [
  {
   "cell_type": "code",
   "execution_count": 17,
   "metadata": {
    "collapsed": false
   },
   "outputs": [
    {
     "name": "stdout",
     "output_type": "stream",
     "text": [
      "[0, 0]\n",
      "podaj wierzchołki0\n",
      "[[0, 0], [0, 0], [0, 0]]\n",
      "podaj wierzchołki0\n",
      "[[0, 0], [0, 0], [0, 0]]\n",
      "podaj wierzchołki1\n",
      "[[0, 0], [100, 0], [0, 0]]\n",
      "podaj wierzchołki2\n",
      "[[0, 0], [100, 200], [0, 0]]\n",
      "podaj wierzchołki0\n",
      "[[0, 0], [100, 200], [0, 0]]\n",
      "podaj wierzchołki2\n",
      "[[0, 0], [100, 200], [0, 200]]\n",
      "10000.0\n"
     ]
    }
   ],
   "source": [
    "a=[[0,0] for i in range(3)]\n",
    "print(a[2])\n",
    "for i in range(len(a)):\n",
    "    for j in range(len(a[i])):\n",
    "        a[i][j]=100*int(input(\"podaj wierzchołki\"))\n",
    "        print(a)\n",
    "W=(1/2)*abs((a[1][0]-a[0][0])*(a[2][1]-a[0][1])-(a[1][1]-a[1][0])*(a[2][0]-a[0][0]))\n",
    "print(W)\n",
    "from tkinter import *\n",
    "\n",
    "canvas_width = 1000\n",
    "canvas_height =1000\n",
    "python_green = \"#476042\"\n",
    "\n",
    "master = Tk()\n",
    "\n",
    "w = Canvas(master, \n",
    "           width=canvas_width, \n",
    "           height=canvas_height)\n",
    "w.pack()\n",
    "\n",
    "points = [a[0][0],a[0][1],a[1][0],a[1][1],a[2][0],a[2][1]]\n",
    "w.create_polygon(points, outline=python_green, \n",
    "            fill='yellow', width=3)\n",
    "\n",
    "mainloop()\n"
   ]
  },
  {
   "cell_type": "code",
   "execution_count": 26,
   "metadata": {
    "collapsed": false
   },
   "outputs": [
    {
     "name": "stdout",
     "output_type": "stream",
     "text": [
      "Podaj długość piramidki 7\n",
      "*\n",
      "**\n",
      "***\n",
      "****\n",
      "*****\n",
      "******\n",
      "*******\n"
     ]
    }
   ],
   "source": [
    "ca = ((yb - ya) / (xb - xa))*(-xb);"
   ]
  },
  {
   "cell_type": "code",
   "execution_count": 25,
   "metadata": {
    "collapsed": false
   },
   "outputs": [
    {
     "name": "stdout",
     "output_type": "stream",
     "text": [
      "Podaj zdanieLaco smokowski\n",
      "ikswokoms ocaL\n"
     ]
    }
   ],
   "source": [
    "a=[[0,0] for i in range(2)]\n",
    "print(a[2])\n",
    "for i in range(len(a)):\n",
    "    for j in range(len(a[i])-1):\n",
    "        a[i][j]=100*int(input(\"podaj wierzchołki\"))\n",
    "        print(a)\n",
    "print(W)\n",
    "from tkinter import *\n",
    "\n",
    "canvas_width = 200\n",
    "canvas_height =200\n",
    "python_green = \"#476042\"\n",
    "\n",
    "master = Tk()\n",
    "\n",
    "w = Canvas(master, \n",
    "           width=canvas_width, \n",
    "           height=canvas_height)\n",
    "w.pack()\n",
    "\n",
    "points = [a[0][0],a[0][1],a[1][0],a[1][1],a[2][0],a[2][1]]\n",
    "w.create_polygon(points, outline=python_green, \n",
    "            fill='yellow', width=3)\n",
    "\n",
    "mainloop()\n"
   ]
  },
  {
   "cell_type": "code",
   "execution_count": 40,
   "metadata": {
    "collapsed": false
   },
   "outputs": [
    {
     "ename": "TypeError",
     "evalue": "'Text' object is not iterable",
     "output_type": "error",
     "traceback": [
      "\u001b[1;31m---------------------------------------------------------------------------\u001b[0m",
      "\u001b[1;31mTypeError\u001b[0m                                 Traceback (most recent call last)",
      "\u001b[1;32m<ipython-input-40-7f51f44f3b35>\u001b[0m in \u001b[0;36m<module>\u001b[1;34m()\u001b[0m\n\u001b[0;32m      1\u001b[0m \u001b[1;32mfrom\u001b[0m \u001b[0mpylab\u001b[0m \u001b[1;32mimport\u001b[0m \u001b[0mtext\u001b[0m\u001b[1;33m\u001b[0m\u001b[0m\n\u001b[0;32m      2\u001b[0m \u001b[1;33m\u001b[0m\u001b[0m\n\u001b[1;32m----> 3\u001b[1;33m \u001b[1;32mfor\u001b[0m \u001b[0mi\u001b[0m \u001b[1;32min\u001b[0m \u001b[0mtext\u001b[0m\u001b[1;33m(\u001b[0m\u001b[1;36m0\u001b[0m\u001b[1;33m,\u001b[0m \u001b[1;36m0\u001b[0m\u001b[1;33m,\u001b[0m \u001b[1;34m'Summary'\u001b[0m\u001b[1;33m,\u001b[0m \u001b[0mbackgroundcolor\u001b[0m \u001b[1;33m=\u001b[0m \u001b[1;34m'm'\u001b[0m\u001b[1;33m,\u001b[0m \u001b[0mcolor\u001b[0m \u001b[1;33m=\u001b[0m \u001b[1;34m'k'\u001b[0m\u001b[1;33m)\u001b[0m\u001b[1;33m:\u001b[0m\u001b[1;33m\u001b[0m\u001b[0m\n\u001b[0m\u001b[0;32m      4\u001b[0m     \u001b[0mprint\u001b[0m \u001b[1;33m(\u001b[0m\u001b[0mi\u001b[0m\u001b[1;33m)\u001b[0m\u001b[1;33m\u001b[0m\u001b[0m\n",
      "\u001b[1;31mTypeError\u001b[0m: 'Text' object is not iterable"
     ]
    }
   ],
   "source": [
    "from pylab import text\n",
    "\n",
    "for i in text(0, 0, 'Summary', backgroundcolor = 'm', color = 'k'):\n",
    "    print (i)"
   ]
  },
  {
   "cell_type": "code",
   "execution_count": 7,
   "metadata": {
    "collapsed": false
   },
   "outputs": [
    {
     "ename": "ImportError",
     "evalue": "No module named 'pygame'",
     "output_type": "error",
     "traceback": [
      "\u001b[1;31m---------------------------------------------------------------------------\u001b[0m",
      "\u001b[1;31mImportError\u001b[0m                               Traceback (most recent call last)",
      "\u001b[1;32m<ipython-input-7-09c050c103b9>\u001b[0m in \u001b[0;36m<module>\u001b[1;34m()\u001b[0m\n\u001b[1;32m----> 1\u001b[1;33m \u001b[1;32mimport\u001b[0m \u001b[0mpygame\u001b[0m\u001b[1;33m\u001b[0m\u001b[0m\n\u001b[0m\u001b[0;32m      2\u001b[0m \u001b[0mpygame\u001b[0m\u001b[1;33m.\u001b[0m\u001b[0minit\u001b[0m\u001b[1;33m(\u001b[0m\u001b[1;33m)\u001b[0m\u001b[1;33m\u001b[0m\u001b[0m\n\u001b[0;32m      3\u001b[0m \u001b[0mpygame\u001b[0m\u001b[1;33m.\u001b[0m\u001b[0mdraw\u001b[0m\u001b[1;33m.\u001b[0m\u001b[0mpolygon\u001b[0m\u001b[1;33m(\u001b[0m\u001b[0mscreen\u001b[0m\u001b[1;33m,\u001b[0m \u001b[0mBLACK\u001b[0m\u001b[1;33m,\u001b[0m \u001b[1;33m[\u001b[0m\u001b[1;33m[\u001b[0m\u001b[1;36m100\u001b[0m\u001b[1;33m,\u001b[0m \u001b[1;36m100\u001b[0m\u001b[1;33m]\u001b[0m\u001b[1;33m,\u001b[0m \u001b[1;33m[\u001b[0m\u001b[1;36m0\u001b[0m\u001b[1;33m,\u001b[0m \u001b[1;36m200\u001b[0m\u001b[1;33m]\u001b[0m\u001b[1;33m,\u001b[0m \u001b[1;33m[\u001b[0m\u001b[1;36m200\u001b[0m\u001b[1;33m,\u001b[0m \u001b[1;36m200\u001b[0m\u001b[1;33m]\u001b[0m\u001b[1;33m]\u001b[0m\u001b[1;33m,\u001b[0m \u001b[1;36m5\u001b[0m\u001b[1;33m)\u001b[0m\u001b[1;33m\u001b[0m\u001b[0m\n",
      "\u001b[1;31mImportError\u001b[0m: No module named 'pygame'"
     ]
    }
   ],
   "source": [
    "import pygame\n",
    "pygame.init()\n",
    "pygame.draw.polygon(screen, BLACK, [[100, 100], [0, 200], [200, 200]], 5)"
   ]
  },
  {
   "cell_type": "code",
   "execution_count": 9,
   "metadata": {
    "collapsed": false
   },
   "outputs": [],
   "source": [
    "from tkinter import *\n",
    "\n",
    "canvas_width = 200\n",
    "canvas_height =200\n",
    "python_green = \"#476042\"\n",
    "\n",
    "master = Tk()\n",
    "\n",
    "w = Canvas(master, \n",
    "           width=canvas_width, \n",
    "           height=canvas_height)\n",
    "w.pack()\n",
    "\n",
    "points = [0,0,canvas_width,canvas_height/2, 0, canvas_height]\n",
    "w.create_polygon(points, outline=python_green, \n",
    "            fill='yellow', width=3)\n",
    "\n",
    "mainloop()"
   ]
  },
  {
   "cell_type": "code",
   "execution_count": null,
   "metadata": {
    "collapsed": true
   },
   "outputs": [],
   "source": []
  }
 ],
 "metadata": {
  "kernelspec": {
   "display_name": "Python 3",
   "language": "python",
   "name": "python3"
  },
  "language_info": {
   "codemirror_mode": {
    "name": "ipython",
    "version": 3
   },
   "file_extension": ".py",
   "mimetype": "text/x-python",
   "name": "python",
   "nbconvert_exporter": "python",
   "pygments_lexer": "ipython3",
   "version": "3.4.3"
  }
 },
 "nbformat": 4,
 "nbformat_minor": 0
}
