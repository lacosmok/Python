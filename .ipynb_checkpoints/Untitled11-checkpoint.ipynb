{
 "cells": [
  {
   "cell_type": "code",
   "execution_count": 77,
   "metadata": {
    "collapsed": false,
    "scrolled": false
   },
   "outputs": [
    {
     "ename": "SyntaxError",
     "evalue": "invalid syntax (<ipython-input-77-eb7a4408aa09>, line 40)",
     "output_type": "error",
     "traceback": [
      "\u001b[1;36m  File \u001b[1;32m\"<ipython-input-77-eb7a4408aa09>\"\u001b[1;36m, line \u001b[1;32m40\u001b[0m\n\u001b[1;33m    for i in kolejnosc\u001b[0m\n\u001b[1;37m                      ^\u001b[0m\n\u001b[1;31mSyntaxError\u001b[0m\u001b[1;31m:\u001b[0m invalid syntax\n"
     ]
    }
   ],
   "source": [
    "file=open(\"ma\",\"r\")\n",
    "slownik={}\n",
    "for line in file:\n",
    "    for word in line.split():\n",
    "        #print(word)\n",
    "        if word not in slownik:\n",
    "            slownik[word]=1\n",
    "        if word in slownik:\n",
    "            slownik[word]=slownik[word]+1\n",
    "#print(slownik)\n",
    "lista=[0 for i in range(11)]\n",
    "#print (lista)\n",
    "#print (slownik)\n",
    "\n",
    "for key in slownik.values():\n",
    "    #rint(key)\n",
    "    for i in range(len(lista)-1):\n",
    "        if key>lista[i]:\n",
    "            if (lista[i]>lista[i+1]):\n",
    "                lista[i+1]=lista[i]\n",
    "            lista[i]=key            \n",
    "            break\n",
    "print (lista)\n",
    "\"\"\"for key in slownik:\n",
    "    for i in lista:\n",
    "    print (key)\n",
    "    if slownik[key]=i\"\"\"\n",
    "kolejnosc=[\"\" for i in range(11)]\n",
    "for i in range(len(lista)):\n",
    "    for key in slownik:\n",
    "        #print(key,lista[i])\n",
    "        if slownik[key]==lista[i] and key not in kolejnosc:\n",
    "            kolejnosc[i]=key\n",
    "            break\n",
    "print(kolejnosc)\n",
    "kolejnosc=kolejnosc[:10:]\n",
    "print(kolejnosc)\n",
    "file.close()\n",
    "file=open(\"slowa.txt\",\"w\")\n",
    "for i in kolejnosc\n",
    "file.write(i)\n",
    "#print (slownik[\"ac\"])\n",
    "    \n",
    "   "
   ]
  },
  {
   "cell_type": "code",
   "execution_count": null,
   "metadata": {
    "collapsed": true
   },
   "outputs": [],
   "source": []
  },
  {
   "cell_type": "code",
   "execution_count": null,
   "metadata": {
    "collapsed": true
   },
   "outputs": [],
   "source": []
  }
 ],
 "metadata": {
  "kernelspec": {
   "display_name": "Python 3",
   "language": "python",
   "name": "python3"
  },
  "language_info": {
   "codemirror_mode": {
    "name": "ipython",
    "version": 3
   },
   "file_extension": ".py",
   "mimetype": "text/x-python",
   "name": "python",
   "nbconvert_exporter": "python",
   "pygments_lexer": "ipython3",
   "version": "3.4.3"
  }
 },
 "nbformat": 4,
 "nbformat_minor": 0
}
