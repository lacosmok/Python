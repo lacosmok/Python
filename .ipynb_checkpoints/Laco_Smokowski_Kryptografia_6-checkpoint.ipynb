{
 "cells": [
  {
   "cell_type": "markdown",
   "metadata": {},
   "source": [
    "Sito Erastostenesa: tworzymy liste z zakresu: 2,a.\n",
    "Bierzemy po kolei liczbę z listy i usuwamy jej wielokrotności. Sprawdzamy warunek\n",
    "while warunek spełniony,bierzemy kolejną liczbę i usuwamy jej wielokrotności\n",
    "algorytm eukllidesa:\n",
    "tez z whilem.\n"
   ]
  },
  {
   "cell_type": "code",
   "execution_count": 30,
   "metadata": {
    "collapsed": false
   },
   "outputs": [
    {
     "name": "stdout",
     "output_type": "stream",
     "text": [
      "po deszyfracji 105600\n",
      "None\n"
     ]
    }
   ],
   "source": [
    "#import math\n",
    "from random import randint\n",
    "from math import floor\n",
    "# pods jest to podstawa, dziel to jest mod(dziel), a i jest potęgą\n",
    "def pote(pods,dziel,i):\n",
    "    i=bin(i)\n",
    "    licznik=1\n",
    "    wynik=1\n",
    "    temp=[pods for i in range(len(i)-1)]\n",
    "    temp[0]=pods\n",
    "    for item in i[:1:-1]:\n",
    "        temp[licznik]=temp[licznik-1]**2%dziel\n",
    "        if item==\"1\":\n",
    "            wynik=wynik*temp[licznik-1]\n",
    "        licznik+=1 \n",
    "    wynik=wynik%dziel\n",
    "    #print(temp)\n",
    "    return (wynik)\n",
    "def sito(a):\n",
    "    lista=[i for i in range(2,a)]\n",
    "    i=0\n",
    "    while lista[i]**2<lista[-1]:\n",
    "        for liczba in lista:\n",
    "            if liczba%lista[i]==0 and lista[i] is not liczba:\n",
    "                lista.remove(liczba)\n",
    "        i+=1\n",
    "    return lista\n",
    "def euklides(a,b):\n",
    "    _x=[1,0]\n",
    "    _y=[0,1]\n",
    "    i=0\n",
    "    q=a//b\n",
    "    r1=a-b*q\n",
    "    #q=floor(b/r1)\n",
    "    _x.append(_x[0]-q*_x[1])\n",
    "    _y.append(_y[0]-q*_y[1])\n",
    "    _r=[0,r1]\n",
    "    i+=1\n",
    "    #print(\"pierwsze q\",q,_x,_y,_r)\n",
    "    while _r[i]>0: \n",
    "        a,b=b,_r[i]\n",
    "        q=floor(a/b)\n",
    "        _r.append(a-b*q)\n",
    "        _x.append(_x[i]-q*_x[i+1])\n",
    "        _y.append(_y[i]-q*_y[i+1])\n",
    "        #print(\"a\",a,\"q \",q,\"r \",_r[i],\"x \",_x[i],_y[i],\" no i \",i) \n",
    "        #print(_x[i],\"*\",a,\"+\",_y[i],\"*\",b)\n",
    "        #print(b,q,_x[i],_y[i])\n",
    "        i+=1\n",
    "    #print(\"wynik\",_r[-2:-1])\n",
    "    wynik=_r[-2:-1]+_x[-1:]\n",
    "    #print(_x,_y)\n",
    "    return [wynik[0],wynik[1]]\n",
    "def RSA(P,Q,m):\n",
    "    N=Q*P\n",
    "    sigma_N=(Q-1)*(P-1)\n",
    "    #print(P,Q)\n",
    "    E=randint(1,sigma_N)\n",
    "    spr=euklides(E,sigma_N)\n",
    "    while spr[0]!=1:\n",
    "        E=randint(1,sigma_N)\n",
    "        spr=euklides(E,sigma_N)\n",
    "    D=spr[1]\n",
    "    if D<0:\n",
    "        D+=sigma_N\n",
    "    Klucz_publiczny=(N,E)\n",
    "    Klucz_prywatny=(N,D)\n",
    "    c=pote(m,N,E)\n",
    "    l=pote(c,N,D)\n",
    "    print(\"po deszyfracji\",m)\n",
    "#print(sito(1000))\n",
    "#print(euklides(1234,234))\n",
    "print(RSA(1303,17042413,105600))"
   ]
  },
  {
   "cell_type": "code",
   "execution_count": null,
   "metadata": {
    "collapsed": true
   },
   "outputs": [],
   "source": []
  },
  {
   "cell_type": "code",
   "execution_count": null,
   "metadata": {
    "collapsed": true
   },
   "outputs": [],
   "source": []
  },
  {
   "cell_type": "code",
   "execution_count": null,
   "metadata": {
    "collapsed": true
   },
   "outputs": [],
   "source": []
  }
 ],
 "metadata": {
  "kernelspec": {
   "display_name": "Python 3",
   "language": "python",
   "name": "python3"
  },
  "language_info": {
   "codemirror_mode": {
    "name": "ipython",
    "version": 3
   },
   "file_extension": ".py",
   "mimetype": "text/x-python",
   "name": "python",
   "nbconvert_exporter": "python",
   "pygments_lexer": "ipython3",
   "version": "3.4.3"
  }
 },
 "nbformat": 4,
 "nbformat_minor": 0
}
