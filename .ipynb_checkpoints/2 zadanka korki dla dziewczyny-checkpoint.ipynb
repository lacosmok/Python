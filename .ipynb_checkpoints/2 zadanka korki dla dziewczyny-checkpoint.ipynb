{
 "cells": [
  {
   "cell_type": "code",
   "execution_count": 20,
   "metadata": {
    "collapsed": false
   },
   "outputs": [
    {
     "name": "stdout",
     "output_type": "stream",
     "text": [
      "bcdefghijklmnopqrstuvxyzaBCDEFGHIJKLMNOPQRSTUVXYZAcdefghijklmnopqrstuvwyzabCDEFGHIJKLMNOPQRSTUVWYZAB\n"
     ]
    }
   ],
   "source": [
    "def ciphers(plik):\n",
    "    wynik=\"\"\n",
    "    file=open(plik,\"r+\")\n",
    "    w=open(\"wynik.txt\",\"w\")\n",
    "    for line in file:\n",
    "        for word in line.split():\n",
    "            for letter in word:\n",
    "                if letter is \" \":\n",
    "                    wynik=wynik+\" \"\n",
    "                else:\n",
    "                    if letter==\"Z\":\n",
    "                        wynik=wynik+\"A\"\n",
    "                    elif letter==\"z\":\n",
    "                        wynik=wynik+\"a\"\n",
    "                    elif ord(letter)==124:# to jest enter jakby co, jak nie masz enterów to kit\n",
    "                        wynik=wynik+chr(124)\n",
    "                    else:\n",
    "                        wynik=wynik+chr(ord(letter)+1)\n",
    "    w.write(wynik)\n",
    "    file.close\n",
    "    w.close\n",
    "    return wynik\n",
    "print(ciphers(\"foo.txt\"))    "
   ]
  },
  {
   "cell_type": "code",
   "execution_count": 85,
   "metadata": {
    "collapsed": false
   },
   "outputs": [
    {
     "name": "stdout",
     "output_type": "stream",
     "text": [
      "1.0 0.30000000000000004\n",
      "0.9993908270190958 0.2993908270190958\n",
      "0.9975640502598242 0.29756405025982424\n",
      "0.9945218953682733 0.29452189536827333\n",
      "0.9902680687415704 0.2902680687415704\n",
      "0.984807753012208 0.28480775301220806\n",
      "0.9781476007338057 0.27814760073380573\n",
      "0.9702957262759965 0.2702957262759965\n",
      "0.9612616959383189 0.26126169593831894\n",
      "0.9510565162951535 0.2510565162951536\n",
      "0.9396926207859084 0.23969262078590847\n",
      "0.9271838545667874 0.22718385456678747\n",
      "0.9135454576426009 0.2135454576426009\n",
      "0.898794046299167 0.19879404629916708\n",
      "0.882947592858927 0.18294759285892703\n",
      "0.8660254037844387 0.16602540378443875\n",
      "0.848048096156426 0.148048096156426\n",
      "0.8290375725550416 0.12903757255504167\n",
      "0.8090169943749475 0.1090169943749475\n",
      "0.7880107536067219 0.08801075360672195\n",
      "0.766044443118978 0.06604444311897806\n",
      "0.7431448254773942 0.04314482547739429\n",
      "0.7193398003386512 0.019339800338651236\n",
      "0.6946583704589973 0.0053416295410027015\n",
      "48\n"
     ]
    }
   ],
   "source": [
    "from math import cos,radians\n",
    "def fcos(kat):\n",
    "    wynik=1\n",
    "    roznica=1\n",
    "    if kat>1 or kat<0:\n",
    "        return \"niepoprawne dane\"\n",
    "    from math import cos,radians\n",
    "    tablica=[cos(radians(i)) for i in range(0,90,2)]\n",
    "    for item in tablica:\n",
    "        if (roznica>abs(kat-item)):\n",
    "            roznica=abs(kat-item)\n",
    "            wynik=(tablica.index(item)+1)*2\n",
    "            print(item,roznica)\n",
    "    return wynik\n",
    "print(fcos(0.7))"
   ]
  },
  {
   "cell_type": "code",
   "execution_count": 59,
   "metadata": {
    "collapsed": false
   },
   "outputs": [
    {
     "data": {
      "text/plain": [
       "78"
      ]
     },
     "execution_count": 59,
     "metadata": {},
     "output_type": "execute_result"
    }
   ],
   "source": [
    "(45-6)*2"
   ]
  },
  {
   "cell_type": "code",
   "execution_count": null,
   "metadata": {
    "collapsed": true
   },
   "outputs": [],
   "source": []
  }
 ],
 "metadata": {
  "kernelspec": {
   "display_name": "Python 3",
   "language": "python",
   "name": "python3"
  },
  "language_info": {
   "codemirror_mode": {
    "name": "ipython",
    "version": 3
   },
   "file_extension": ".py",
   "mimetype": "text/x-python",
   "name": "python",
   "nbconvert_exporter": "python",
   "pygments_lexer": "ipython3",
   "version": "3.4.3"
  }
 },
 "nbformat": 4,
 "nbformat_minor": 0
}
