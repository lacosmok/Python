{
 "cells": [
  {
   "cell_type": "code",
   "execution_count": 1,
   "metadata": {
    "collapsed": false
   },
   "outputs": [
    {
     "name": "stdout",
     "output_type": "stream",
     "text": [
      "62\n",
      "D ORAZ Q 3 11\n",
      "True\n"
     ]
    }
   ],
   "source": [
    "from random import randint\n",
    "# pods jest to podstawa, dziel to jest mod(dziel), a i jest potęgą\n",
    "def pote(pods,dziel,i):\n",
    "    i=bin(i)\n",
    "    licznik=1\n",
    "    wynik=1\n",
    "    temp=[pods for i in range(len(i)-1)]\n",
    "    temp[0]=pods\n",
    "    for item in i[:1:-1]:\n",
    "        temp[licznik]=temp[licznik-1]**2%dziel\n",
    "        if item==\"1\":\n",
    "            wynik=wynik*temp[licznik-1]\n",
    "        licznik+=1 \n",
    "    wynik=wynik%dziel\n",
    "    #print(temp)\n",
    "    return (wynik)\n",
    "def spr(zm):\n",
    "    licz=0\n",
    "    while zm%2==0:\n",
    "        zm=zm/2\n",
    "        licz+=1\n",
    "    return licz,int(zm)\n",
    "print(pote(5,137,41))\n",
    "def czy_pierwsza(n):\n",
    "    k=10\n",
    "    zm=n-1\n",
    "    d,q=spr(zm)\n",
    "    print(\"D ORAZ Q\",d,q)\n",
    "    Czy_pierwsza=False\n",
    "    prawdziwy_swiadek=True\n",
    "    Czy_Kazdy_swiadek_prawdziwy=0\n",
    "    for i in range(k):\n",
    "        b=randint(2,zm)\n",
    "        for j in range(d):\n",
    "            sprawdzanie=pote(b,n,(2**j)*q)\n",
    "            #print(\"reszta i liczba\",sprawdzanie,b)\n",
    "            if sprawdzanie==1 or sprawdzanie==zm:\n",
    "                prawdziwy_swiadek=False\n",
    "        if prawdziwy_swiadek==False:\n",
    "            Czy_Kazdy_swiadek_prawdziwy+=1\n",
    "        #print(\"ile świadków swiadczy o pierwszości?\",Czy_Kazdy_swiadek_prawdziwy)\n",
    "        prawdziwy_swiadek=True\n",
    "                #print(\"prawdziwi świadkowie\",b,sprawdzanie)\n",
    "    if Czy_Kazdy_swiadek_prawdziwy==k:\n",
    "        Czy_pierwsza=True\n",
    "    return Czy_pierwsza\n",
    "print(czy_pierwsza(89))"
   ]
  },
  {
   "cell_type": "code",
   "execution_count": 13,
   "metadata": {
    "collapsed": false
   },
   "outputs": [
    {
     "data": {
      "text/plain": [
       "17"
      ]
     },
     "execution_count": 13,
     "metadata": {},
     "output_type": "execute_result"
    }
   ],
   "source": [
    "pote(1223,225,3)"
   ]
  },
  {
   "cell_type": "code",
   "execution_count": 239,
   "metadata": {
    "collapsed": true
   },
   "outputs": [],
   "source": []
  },
  {
   "cell_type": "markdown",
   "metadata": {
    "collapsed": false
   },
   "source": [
    "W przypadku w którym jedna z cześci mnożenia jest równa 1 lub -1 liczba jest fałszywym swiadkiem. więc musi być jakiś współczynnik który to sprawdza? i jesli kazda liczba ma chociaz 1 taki współczynnik to da radę zawalczyć z tym.\n"
   ]
  },
  {
   "cell_type": "code",
   "execution_count": 178,
   "metadata": {
    "collapsed": false
   },
   "outputs": [
    {
     "data": {
      "text/plain": [
       "1"
      ]
     },
     "execution_count": 178,
     "metadata": {},
     "output_type": "execute_result"
    }
   ],
   "source": []
  },
  {
   "cell_type": "code",
   "execution_count": null,
   "metadata": {
    "collapsed": true
   },
   "outputs": [],
   "source": []
  }
 ],
 "metadata": {
  "kernelspec": {
   "display_name": "Python 3",
   "language": "python",
   "name": "python3"
  },
  "language_info": {
   "codemirror_mode": {
    "name": "ipython",
    "version": 3
   },
   "file_extension": ".py",
   "mimetype": "text/x-python",
   "name": "python",
   "nbconvert_exporter": "python",
   "pygments_lexer": "ipython3",
   "version": "3.4.3"
  }
 },
 "nbformat": 4,
 "nbformat_minor": 0
}
