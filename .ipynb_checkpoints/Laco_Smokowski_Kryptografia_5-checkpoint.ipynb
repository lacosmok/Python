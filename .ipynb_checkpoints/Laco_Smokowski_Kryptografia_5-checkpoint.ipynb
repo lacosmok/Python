{
 "cells": [
  {
   "cell_type": "markdown",
   "metadata": {},
   "source": [
    "Rozkład Fermata: Algorytm rozkładający liczbę q na czynniki pierwsze.\n",
    "Liczba=q\n",
    "k,n-zmienne odpowiadające za zmianę postaci\n",
    "na początku sprawdz czy floor.sqrt.x==sqrt.x jeżeli tak to n ma dzielnikx(!!!!!) z krotnością 2(!!!!) \n",
    "jeśli nie to x=x+1\n",
    "dopóki x<(x+1)/2to:\n",
    "-sqr.y=sqr.x-n\n",
    "jeżeli: sqr.y>0 ifloor=sqr.y to są 2 podzielniki.\n",
    "jeżeli nie to x=x+1"
   ]
  },
  {
   "cell_type": "code",
   "execution_count": 8,
   "metadata": {
    "collapsed": false
   },
   "outputs": [
    {
     "name": "stdout",
     "output_type": "stream",
     "text": [
      "1\n",
      "True\n",
      "1 3\n",
      "{2: 1, 3: 1}\n",
      "Podaj liczbę do sprawdzania44\n",
      "Podaj liczbę b343\n",
      "podaj nieparzystą liczbę44\n",
      "podaj nieparzystą liczbę43\n",
      "1 21\n",
      "{2: 1, 3: 1, 7: 1}\n",
      "1\n",
      "42\n",
      "1\n",
      "False\n"
     ]
    }
   ],
   "source": [
    "import math\n",
    "from random import randint\n",
    "# pods jest to podstawa, dziel to jest mod(dziel), a i jest potęgą\n",
    "def pote(pods,dziel,i):\n",
    "    i=bin(i)\n",
    "    #print(i)\n",
    "    licznik=1\n",
    "    wynik=1\n",
    "    temp=[pods for i in range(len(i)-1)]\n",
    "    temp[0]=pods\n",
    "    for item in i[:1:-1]:\n",
    "        temp[licznik]=temp[licznik-1]**2%dziel\n",
    "        if item==\"1\":\n",
    "            wynik=wynik*temp[licznik-1]\n",
    "        licznik+=1 \n",
    "    wynik=wynik%dziel\n",
    "    #print(temp)\n",
    "    return (wynik)\n",
    "def spr(zm):\n",
    "    licz=0\n",
    "    while zm%2==0 and zm!=0:\n",
    "        zm=zm/2\n",
    "        licz+=1\n",
    "    return licz,int(zm)\n",
    "def czy_pierwsza(n):\n",
    "    k=10\n",
    "    zm=n-1\n",
    "    d,q=spr(zm)\n",
    "    #print(\"D ORAZ Q\",d,q)\n",
    "    Czy_pierwsza=False\n",
    "    prawdziwy_swiadek=True\n",
    "    Czy_Kazdy_swiadek_prawdziwy=0\n",
    "    if zm<2:\n",
    "        return True      \n",
    "    for i in range(k):\n",
    "        b=randint(2,zm)\n",
    "        for j in range(d):\n",
    "            sprawdzanie=pote(b,n,(2**j)*q)\n",
    "            #print(\"reszta i liczba\",sprawdzanie,b)\n",
    "            if sprawdzanie==1 or sprawdzanie==zm:\n",
    "                prawdziwy_swiadek=False\n",
    "        if prawdziwy_swiadek==False:\n",
    "            Czy_Kazdy_swiadek_prawdziwy+=1\n",
    "        #print(\"ile świadków swiadczy o pierwszości?\",Czy_Kazdy_swiadek_prawdziwy)\n",
    "        prawdziwy_swiadek=True\n",
    "                #print(\"prawdziwi świadkowie\",b,sprawdzanie)\n",
    "    if Czy_Kazdy_swiadek_prawdziwy==k:\n",
    "        Czy_pierwsza=True\n",
    "    return Czy_pierwsza\n",
    "#rozkłada liczbe na czynniki\n",
    "def fermat(liczba):\n",
    "    k,n=spr(liczba)\n",
    "    print(k,n)\n",
    "    x=math.floor(math.sqrt(n))\n",
    "    d={}\n",
    "    #ok, no to warunek na podwójną krotność\n",
    "    if x==math.sqrt(n):\n",
    "        if x not in d.keys():\n",
    "            d[x]=2\n",
    "        else:\n",
    "            d[x]+=2\n",
    "    else:\n",
    "        while x<((n+1)/2):\n",
    "            x+=1\n",
    "            y=(x*x-n)\n",
    "            spraw=math.floor(math.sqrt(y))\n",
    "            if spraw==math.sqrt(y) and y>=0:\n",
    "                d1=int(x+math.sqrt(y))\n",
    "                d2=int(x-math.sqrt(y))\n",
    "                if czy_pierwsza(d1)==True: #jeśli pierwszy dzielnik jest pierwszy\n",
    "                    if d1 not in d.keys():\n",
    "                        d[d1]=1\n",
    "                    else:\n",
    "                        d[d1]+=1\n",
    "                if czy_pierwsza(d1)!=True: #jeśli pierwszy nie jest pierwszy:\n",
    "                    f=fermat(d1)\n",
    "                    d.update(f)\n",
    "                if czy_pierwsza(d2)!=True:   #jeśli drugi nie jest pierwszy                \n",
    "                    f=fermat(d2)\n",
    "                    d.update(f)\n",
    "                    break\n",
    "                if d2!=1 and czy_pierwsza(d2)==True: #i jeśli z kolei drugi jest pierwszy\n",
    "                    if d2 not in d.keys():\n",
    "                        d[d2]=1\n",
    "                    else:\n",
    "                        d[d2]+=1\n",
    "                    break\n",
    "    if not d:\n",
    "        d[liczba]=1\n",
    "    d[2]=k\n",
    "    return d\n",
    "def test_Lucasa(n,b):\n",
    "    while n%2==0:\n",
    "        n=int(input(\"podaj nieparzystą liczbę\"))\n",
    "    czynniki=fermat(n-1)\n",
    "    print (czynniki)\n",
    "    test=0\n",
    "    wartosci=0\n",
    "    sprawdzenie=pote(b,n,n-1)\n",
    "    print(sprawdzenie)\n",
    "    if sprawdzenie!=1:\n",
    "        return False\n",
    "    else:\n",
    "        for key in czynniki.keys():\n",
    "            wartosci+=1\n",
    "            #print(((n-1)/key))\n",
    "            sprawdzenie=pote(b,n,int((n-1)/key))\n",
    "            print(sprawdzenie)\n",
    "            if sprawdzenie==1:\n",
    "                return False\n",
    "        return True\n",
    "wynik=1\n",
    "print(wynik)\n",
    "print(czy_pierwsza(17))\n",
    "print(fermat(6)) \n",
    "n=int(input(\"Podaj liczbę do sprawdzania\"))\n",
    "b=int(input(\"Podaj liczbę b\"))\n",
    "print(test_Lucasa(n,b))"
   ]
  },
  {
   "cell_type": "code",
   "execution_count": null,
   "metadata": {
    "collapsed": false
   },
   "outputs": [],
   "source": [
    "d={}\n",
    "d[89]=0\n",
    "f={}\n",
    "f[1]=1\n",
    "d[89]+=1\n",
    "d.update(f)\n",
    "if 8 not in d.keys():\n",
    "    print(\"lol\")\n",
    "print(d)"
   ]
  },
  {
   "cell_type": "code",
   "execution_count": null,
   "metadata": {
    "collapsed": false
   },
   "outputs": [],
   "source": [
    "41*4*3*25"
   ]
  },
  {
   "cell_type": "code",
   "execution_count": null,
   "metadata": {
    "collapsed": false
   },
   "outputs": [],
   "source": []
  },
  {
   "cell_type": "markdown",
   "metadata": {},
   "source": [
    "#### "
   ]
  }
 ],
 "metadata": {
  "kernelspec": {
   "display_name": "Python 3",
   "language": "python",
   "name": "python3"
  },
  "language_info": {
   "codemirror_mode": {
    "name": "ipython",
    "version": 3
   },
   "file_extension": ".py",
   "mimetype": "text/x-python",
   "name": "python",
   "nbconvert_exporter": "python",
   "pygments_lexer": "ipython3",
   "version": "3.4.3"
  }
 },
 "nbformat": 4,
 "nbformat_minor": 0
}
