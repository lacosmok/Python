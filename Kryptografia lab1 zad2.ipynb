{
 "cells": [
  {
   "cell_type": "code",
   "execution_count": 2,
   "metadata": {
    "collapsed": false,
    "scrolled": true
   },
   "outputs": [
    {
     "name": "stdout",
     "output_type": "stream",
     "text": [
      "Podaj długość przewidywanego klucza 4\n",
      "Wskaźniki grup\n",
      "[0.06982150269821502, 0.07442922374429224, 0.06446658364466584, 0.06986301369863014]\n",
      "wzajemne indexy zgodności\n",
      "[[0.0684099621781299, 0.0635545706533235, 0.06962890001853445], [0.0648148350634786, 0.06735622695885363], [0.0654760095925115], []]\n",
      "[[1, 10, 24], [9, 23], [14], []]\n",
      "indexy  zgodności k 0  z kolejnymi elementami to [1, 10, 24]\n",
      "indexy  zgodności k 1  z kolejnymi elementami to [9, 23]\n",
      "indexy  zgodności k 2  z kolejnymi elementami to [14]\n"
     ]
    }
   ],
   "source": [
    "file=open(\"output.txt\", \"r\")\n",
    "wow=open(\"czestosc.txt\",\"r\")\n",
    "lenght=10\n",
    "woww=\"\"\n",
    "lenght=int(input(\"Podaj długość przewidywanego klucza \"))\n",
    "group=[\"\" for i in range(lenght)]\n",
    "dl_grupy=[0 for i in range(lenght)]\n",
    "cz_wystepowan=0\n",
    "cz_wystepowania=[[0 for i in range(26)] for x in range(lenght)]   #najpierw ilość występowań potem która grupa\n",
    "i=0\n",
    "licznik=0\n",
    "numer=0  #numer litery alfabetu\n",
    "wskaznik=[0 for i in range(lenght)]\n",
    "ilosc_powt=0\n",
    "ilosc_liter=[0 for i in range(26)]\n",
    "alfa=\"abcdefghijklmnopqrstuvwxyz\"\n",
    "\n",
    "for word in file: #dzieli na grupy w zalezności od dł klucza\n",
    "    for letter in word:\n",
    "        #print (word)\n",
    "        group[i]=group[i]+letter\n",
    "        dl_grupy[i]=dl_grupy[i]+1 #potrzebne do czestotliwości\n",
    "        i=i+1          \n",
    "        if i==(lenght):\n",
    "            i=0\n",
    "print(\"Wskaźniki grup\")\n",
    "for i in (range(lenght)):          \n",
    "    for letter in alfa:    #dla kazdej litery w alfabecie\n",
    "        for x in group[i]:                                            # dla litery w grupie i\n",
    "            if x==letter:\n",
    "                cz_wystepowania[i][numer]= cz_wystepowania[i][numer]+1\n",
    "        wskaznik[i]=wskaznik[i]+( cz_wystepowania[i][numer])*(( cz_wystepowania[i][numer])-1)\n",
    "        ilosc_powt=0\n",
    "        if numer<25:\n",
    "            numer=numer+1\n",
    "    numer=0\n",
    "    wskaznik[i]=wskaznik[i]/(dl_grupy[i]*(dl_grupy[i]-1))    \n",
    "print(wskaznik)                                                                   #ok, koniec obliczania długości klucza\n",
    "print(\"wzajemne indexy zgodności\")        #potrzebuję częstość zgodności występowania każdej liczb w kazdej grupie\n",
    "przesuniecia=[[1 for i in range(lenght) if i>j] for j in range(lenght)]\n",
    "MIs=[[0 for i in range(lenght) if i>j] for j in range(lenght)]\n",
    "licz=0 \n",
    "index_w=[0.06,0.077]\n",
    "MI=0\n",
    "x=1\n",
    "lists=[[i for i in range(lenght) if i>j] for j in range(lenght)]  \n",
    "for row in lists:\n",
    "        for item in row:                                # item to są 2 składniki indexu zgodności    \n",
    "            for a in range(26):                     #licz to jest pierwszy składnik indexu zgodności\n",
    "                for numer in range(26):\n",
    "                    MI=MI+cz_wystepowania[item][numer]*cz_wystepowania[licz][(numer+a)%26]\n",
    "                MI=MI/(dl_grupy[item]*dl_grupy[licz])\n",
    "                #print(\"licz \",licz,\"item\",item)\n",
    "                #print (\"MI\",MI)\n",
    "                if MI<index_w[1] and MI>index_w[0]:\n",
    "                    #print(\"licz \",licz,\"item\",item)\n",
    "                    przesuniecia[licz][item-x]=a\n",
    "                    MIs[licz][item-x]=MI\n",
    "                    break\n",
    "        x=x+1\n",
    "        licz=licz+1\n",
    "#print(index_w[1],index_w[0])\n",
    "print(MIs)\n",
    "print(przesuniecia)#przesunięcia ida w lewo\n",
    "for i in range(lenght-1):\n",
    "    print(\"indexy  zgodności k\",i,\" z kolejnymi elementami to\",przesuniecia[i])\n",
    "file.close()"
   ]
  },
  {
   "cell_type": "markdown",
   "metadata": {
    "collapsed": false
   },
   "source": []
  },
  {
   "cell_type": "code",
   "execution_count": 4,
   "metadata": {
    "collapsed": false
   },
   "outputs": [
    {
     "name": "stdout",
     "output_type": "stream",
     "text": [
      "2\n"
     ]
    }
   ],
   "source": [
    "x=1\n",
    "print (eval(\"x+1\"))"
   ]
  },
  {
   "cell_type": "code",
   "execution_count": null,
   "metadata": {
    "collapsed": true
   },
   "outputs": [],
   "source": []
  },
  {
   "cell_type": "code",
   "execution_count": null,
   "metadata": {
    "collapsed": true
   },
   "outputs": [],
   "source": []
  }
 ],
 "metadata": {
  "kernelspec": {
   "display_name": "Python 3",
   "language": "python",
   "name": "python3"
  },
  "language_info": {
   "codemirror_mode": {
    "name": "ipython",
    "version": 3
   },
   "file_extension": ".py",
   "mimetype": "text/x-python",
   "name": "python",
   "nbconvert_exporter": "python",
   "pygments_lexer": "ipython3",
   "version": "3.4.3"
  }
 },
 "nbformat": 4,
 "nbformat_minor": 0
}
